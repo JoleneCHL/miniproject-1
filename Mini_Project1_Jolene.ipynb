{
 "cells": [
  {
   "cell_type": "markdown",
   "id": "c14d38f5",
   "metadata": {},
   "source": [
    "# Mini Project 1 10 January 2022"
   ]
  },
  {
   "cell_type": "markdown",
   "id": "4956ca59",
   "metadata": {},
   "source": [
    "The purpose of the Mini Project is to reinforce skills that have been covered in recent modules. \n",
    "\n",
    "Choose a business problem and translate it into a data science problem. Select a data set and analyse it using the techniques learned in recent modules. The techniques include (but not limited to) the following: Data Wrangling, Feature Engineering, EDA..\n",
    "\n",
    "Prepare and present a 8-minute Powerpoint presentation for stakeholders and a 5 min Jupyter Notebook for technical discussion in class.\n",
    "\n",
    "Presentation to be held on 9 Jan 2023 (Mon).\n",
    "\n",
    "-----------\n",
    "\n",
    "Rubric:\n",
    "-Explanation of the business context behind the dataset\n",
    "-Quality of presentation - engaging, well structured, not too short or too long\n",
    "-Quality of the notebook - code well documented, runs correctly\n",
    "-Time-management - please keep strictly to the time given"
   ]
  },
  {
   "cell_type": "markdown",
   "id": "04b204b2",
   "metadata": {},
   "source": [
    "## Title of Project: E-Commerce Shipping Company\n",
    "\n",
    "## Business problem\n",
    "\n",
    "### How to increase on customer rating?\n"
   ]
  },
  {
   "cell_type": "markdown",
   "id": "af8b1472",
   "metadata": {},
   "source": [
    "E-Commerce Shipping Data from kaggel.\n",
    "\n",
    "Link https://www.kaggle.com/code/niteshyadav3103/eda-e-commerce-shipping-data\n",
    "\n",
    "### Data Description- E-Commerce Shipping Data\n",
    "\n",
    "- ID: ID Number of Customers.\n",
    "- Warehouse block:- The Company have big Warehouse which is divided in to block such as A,B,C,D,E.\n",
    "- Mode of shipment:-The Company Ships the products in multiple way such as Ship, Flight and Road.\n",
    "- Customer care calls:- The number of calls made from enquiry for enquiry of the shipment.\n",
    "- Customer rating:- The company has rated from every customer. 1 is the lowest (Worst), 5 is the highest (Best).\n",
    "- Cost of the product-: Cost of the Product in US Dollars.\n",
    "- Prior purchases:- The Number of Prior Purchase.\n",
    "- Product importance:- The company has categorized the product in the various parameter such as low, medium, high.\n",
    "- Gender:- Male and Female.\n",
    "- Discount offered:- Discount offered on that specific product.\n",
    "- Weight in gms:- It is the weight in grams.\n",
    "- Reached on time:- It is the target variable, where 1 Indicates that the product has NOT reached on time and 0 indicates it has reached on time."
   ]
  },
  {
   "cell_type": "markdown",
   "id": "b5e5da1b",
   "metadata": {},
   "source": [
    "### Download Libraries"
   ]
  },
  {
   "cell_type": "code",
   "execution_count": 161,
   "id": "d95e7571",
   "metadata": {},
   "outputs": [],
   "source": [
    "import numpy as np\n",
    "import pandas as pd\n",
    "import matplotlib.pyplot as plt\n",
    "import matplotlib.pylab as pylab\n",
    "import seaborn as sns\n",
    "\n"
   ]
  },
  {
   "cell_type": "markdown",
   "id": "c07e193a",
   "metadata": {},
   "source": [
    "### Data profiling"
   ]
  },
  {
   "cell_type": "markdown",
   "id": "dc89ad1c",
   "metadata": {},
   "source": [
    "### Import CSV file"
   ]
  },
  {
   "cell_type": "code",
   "execution_count": 162,
   "id": "fce57b1e",
   "metadata": {},
   "outputs": [],
   "source": [
    "# importing csv data\n",
    "data = pd.read_csv(r\"C:\\Users\\jolen\\IOD-Fulltime_5_Dec_2022\\Mini Projects\\Mini Project 1\\DATA\\e-commerce shipping data.csv\", low_memory=False)"
   ]
  },
  {
   "cell_type": "markdown",
   "id": "628c90cb",
   "metadata": {},
   "source": [
    "### View data"
   ]
  },
  {
   "cell_type": "code",
   "execution_count": 163,
   "id": "2d6f5dcf",
   "metadata": {},
   "outputs": [
    {
     "data": {
      "text/html": [
       "<div>\n",
       "<style scoped>\n",
       "    .dataframe tbody tr th:only-of-type {\n",
       "        vertical-align: middle;\n",
       "    }\n",
       "\n",
       "    .dataframe tbody tr th {\n",
       "        vertical-align: top;\n",
       "    }\n",
       "\n",
       "    .dataframe thead th {\n",
       "        text-align: right;\n",
       "    }\n",
       "</style>\n",
       "<table border=\"1\" class=\"dataframe\">\n",
       "  <thead>\n",
       "    <tr style=\"text-align: right;\">\n",
       "      <th></th>\n",
       "      <th>ID</th>\n",
       "      <th>Warehouse_block</th>\n",
       "      <th>Mode_of_Shipment</th>\n",
       "      <th>Customer_care_calls</th>\n",
       "      <th>Customer_rating</th>\n",
       "      <th>Cost_of the_Product</th>\n",
       "      <th>Prior purchases</th>\n",
       "      <th>Product_importance</th>\n",
       "      <th>GENDER</th>\n",
       "      <th>Discount_offered</th>\n",
       "      <th>Weight_in_gms</th>\n",
       "      <th>Reached on Time_Y.N</th>\n",
       "    </tr>\n",
       "  </thead>\n",
       "  <tbody>\n",
       "    <tr>\n",
       "      <th>0</th>\n",
       "      <td>1</td>\n",
       "      <td>D</td>\n",
       "      <td>Flight</td>\n",
       "      <td>4.0</td>\n",
       "      <td>2</td>\n",
       "      <td>177</td>\n",
       "      <td>3</td>\n",
       "      <td>low</td>\n",
       "      <td>F</td>\n",
       "      <td>44</td>\n",
       "      <td>1233</td>\n",
       "      <td>1</td>\n",
       "    </tr>\n",
       "    <tr>\n",
       "      <th>1</th>\n",
       "      <td>2</td>\n",
       "      <td>F</td>\n",
       "      <td>Flight</td>\n",
       "      <td>4.0</td>\n",
       "      <td>5</td>\n",
       "      <td>216</td>\n",
       "      <td>2</td>\n",
       "      <td>low</td>\n",
       "      <td>M</td>\n",
       "      <td>59</td>\n",
       "      <td>3088</td>\n",
       "      <td>1</td>\n",
       "    </tr>\n",
       "    <tr>\n",
       "      <th>2</th>\n",
       "      <td>3</td>\n",
       "      <td>A</td>\n",
       "      <td>Flight</td>\n",
       "      <td>2.0</td>\n",
       "      <td>2</td>\n",
       "      <td>183</td>\n",
       "      <td>4</td>\n",
       "      <td>low</td>\n",
       "      <td>M</td>\n",
       "      <td>48</td>\n",
       "      <td>3374</td>\n",
       "      <td>1</td>\n",
       "    </tr>\n",
       "    <tr>\n",
       "      <th>3</th>\n",
       "      <td>4</td>\n",
       "      <td>B</td>\n",
       "      <td>Flight</td>\n",
       "      <td>3.0</td>\n",
       "      <td>3</td>\n",
       "      <td>176</td>\n",
       "      <td>4</td>\n",
       "      <td>medium</td>\n",
       "      <td>M</td>\n",
       "      <td>10</td>\n",
       "      <td>1177</td>\n",
       "      <td>1</td>\n",
       "    </tr>\n",
       "    <tr>\n",
       "      <th>4</th>\n",
       "      <td>5</td>\n",
       "      <td>C</td>\n",
       "      <td>Flight</td>\n",
       "      <td>2.0</td>\n",
       "      <td>2</td>\n",
       "      <td>184</td>\n",
       "      <td>3</td>\n",
       "      <td>medium</td>\n",
       "      <td>F</td>\n",
       "      <td>46</td>\n",
       "      <td>2484</td>\n",
       "      <td>1</td>\n",
       "    </tr>\n",
       "  </tbody>\n",
       "</table>\n",
       "</div>"
      ],
      "text/plain": [
       "   ID Warehouse_block Mode_of_Shipment   Customer_care_calls  Customer_rating  \\\n",
       "0   1               D           Flight                   4.0                2   \n",
       "1   2               F           Flight                   4.0                5   \n",
       "2   3               A           Flight                   2.0                2   \n",
       "3   4               B           Flight                   3.0                3   \n",
       "4   5               C           Flight                   2.0                2   \n",
       "\n",
       "    Cost_of the_Product   Prior purchases Product_importance GENDER  \\\n",
       "0                    177                3                low      F   \n",
       "1                    216                2                low      M   \n",
       "2                    183                4                low      M   \n",
       "3                    176                4             medium      M   \n",
       "4                    184                3             medium      F   \n",
       "\n",
       "   Discount_offered  Weight_in_gms  Reached on Time_Y.N  \n",
       "0                44           1233                    1  \n",
       "1                59           3088                    1  \n",
       "2                48           3374                    1  \n",
       "3                10           1177                    1  \n",
       "4                46           2484                    1  "
      ]
     },
     "execution_count": 163,
     "metadata": {},
     "output_type": "execute_result"
    }
   ],
   "source": [
    "# Check data head\n",
    "data.head()"
   ]
  },
  {
   "cell_type": "code",
   "execution_count": 164,
   "id": "647984ab",
   "metadata": {},
   "outputs": [
    {
     "data": {
      "text/html": [
       "<div>\n",
       "<style scoped>\n",
       "    .dataframe tbody tr th:only-of-type {\n",
       "        vertical-align: middle;\n",
       "    }\n",
       "\n",
       "    .dataframe tbody tr th {\n",
       "        vertical-align: top;\n",
       "    }\n",
       "\n",
       "    .dataframe thead th {\n",
       "        text-align: right;\n",
       "    }\n",
       "</style>\n",
       "<table border=\"1\" class=\"dataframe\">\n",
       "  <thead>\n",
       "    <tr style=\"text-align: right;\">\n",
       "      <th></th>\n",
       "      <th>ID</th>\n",
       "      <th>Warehouse_block</th>\n",
       "      <th>Mode_of_Shipment</th>\n",
       "      <th>Customer_care_calls</th>\n",
       "      <th>Customer_rating</th>\n",
       "      <th>Cost_of the_Product</th>\n",
       "      <th>Prior purchases</th>\n",
       "      <th>Product_importance</th>\n",
       "      <th>GENDER</th>\n",
       "      <th>Discount_offered</th>\n",
       "      <th>Weight_in_gms</th>\n",
       "      <th>Reached on Time_Y.N</th>\n",
       "    </tr>\n",
       "  </thead>\n",
       "  <tbody>\n",
       "    <tr>\n",
       "      <th>10994</th>\n",
       "      <td>10995</td>\n",
       "      <td>A</td>\n",
       "      <td>Ship</td>\n",
       "      <td>4.0</td>\n",
       "      <td>1</td>\n",
       "      <td>252</td>\n",
       "      <td>5</td>\n",
       "      <td>medium</td>\n",
       "      <td>F</td>\n",
       "      <td>1</td>\n",
       "      <td>1538</td>\n",
       "      <td>1</td>\n",
       "    </tr>\n",
       "    <tr>\n",
       "      <th>10995</th>\n",
       "      <td>10996</td>\n",
       "      <td>B</td>\n",
       "      <td>Ship</td>\n",
       "      <td>4.0</td>\n",
       "      <td>1</td>\n",
       "      <td>232</td>\n",
       "      <td>5</td>\n",
       "      <td>medium</td>\n",
       "      <td>F</td>\n",
       "      <td>6</td>\n",
       "      <td>1247</td>\n",
       "      <td>0</td>\n",
       "    </tr>\n",
       "    <tr>\n",
       "      <th>10996</th>\n",
       "      <td>10997</td>\n",
       "      <td>C</td>\n",
       "      <td>Ship</td>\n",
       "      <td>5.0</td>\n",
       "      <td>4</td>\n",
       "      <td>242</td>\n",
       "      <td>5</td>\n",
       "      <td>low</td>\n",
       "      <td>F</td>\n",
       "      <td>4</td>\n",
       "      <td>1155</td>\n",
       "      <td>0</td>\n",
       "    </tr>\n",
       "    <tr>\n",
       "      <th>10997</th>\n",
       "      <td>10998</td>\n",
       "      <td>F</td>\n",
       "      <td>Ship</td>\n",
       "      <td>5.0</td>\n",
       "      <td>2</td>\n",
       "      <td>223</td>\n",
       "      <td>6</td>\n",
       "      <td>medium</td>\n",
       "      <td>M</td>\n",
       "      <td>2</td>\n",
       "      <td>1210</td>\n",
       "      <td>0</td>\n",
       "    </tr>\n",
       "    <tr>\n",
       "      <th>10998</th>\n",
       "      <td>10999</td>\n",
       "      <td>D</td>\n",
       "      <td>Ship</td>\n",
       "      <td>2.0</td>\n",
       "      <td>5</td>\n",
       "      <td>155</td>\n",
       "      <td>5</td>\n",
       "      <td>low</td>\n",
       "      <td>F</td>\n",
       "      <td>6</td>\n",
       "      <td>1639</td>\n",
       "      <td>0</td>\n",
       "    </tr>\n",
       "  </tbody>\n",
       "</table>\n",
       "</div>"
      ],
      "text/plain": [
       "          ID Warehouse_block Mode_of_Shipment   Customer_care_calls  \\\n",
       "10994  10995               A             Ship                   4.0   \n",
       "10995  10996               B             Ship                   4.0   \n",
       "10996  10997               C             Ship                   5.0   \n",
       "10997  10998               F             Ship                   5.0   \n",
       "10998  10999               D             Ship                   2.0   \n",
       "\n",
       "       Customer_rating   Cost_of the_Product   Prior purchases  \\\n",
       "10994                1                    252                5   \n",
       "10995                1                    232                5   \n",
       "10996                4                    242                5   \n",
       "10997                2                    223                6   \n",
       "10998                5                    155                5   \n",
       "\n",
       "      Product_importance GENDER  Discount_offered  Weight_in_gms  \\\n",
       "10994             medium      F                 1           1538   \n",
       "10995             medium      F                 6           1247   \n",
       "10996                low      F                 4           1155   \n",
       "10997             medium      M                 2           1210   \n",
       "10998                low      F                 6           1639   \n",
       "\n",
       "       Reached on Time_Y.N  \n",
       "10994                    1  \n",
       "10995                    0  \n",
       "10996                    0  \n",
       "10997                    0  \n",
       "10998                    0  "
      ]
     },
     "execution_count": 164,
     "metadata": {},
     "output_type": "execute_result"
    }
   ],
   "source": [
    "# Check data tail\n",
    "data.tail()"
   ]
  },
  {
   "cell_type": "code",
   "execution_count": 165,
   "id": "5c02a079",
   "metadata": {},
   "outputs": [
    {
     "name": "stdout",
     "output_type": "stream",
     "text": [
      "<class 'pandas.core.frame.DataFrame'>\n",
      "RangeIndex: 10999 entries, 0 to 10998\n",
      "Data columns (total 12 columns):\n",
      " #   Column                 Non-Null Count  Dtype  \n",
      "---  ------                 --------------  -----  \n",
      " 0   ID                     10999 non-null  int64  \n",
      " 1   Warehouse_block        10999 non-null  object \n",
      " 2   Mode_of_Shipment       10999 non-null  object \n",
      " 3    Customer_care_calls   10983 non-null  float64\n",
      " 4   Customer_rating        10999 non-null  int64  \n",
      " 5    Cost_of the_Product   10999 non-null  int64  \n",
      " 6   Prior purchases        10999 non-null  int64  \n",
      " 7   Product_importance     10999 non-null  object \n",
      " 8   GENDER                 10999 non-null  object \n",
      " 9   Discount_offered       10999 non-null  int64  \n",
      " 10  Weight_in_gms          10999 non-null  int64  \n",
      " 11  Reached on Time_Y.N    10999 non-null  int64  \n",
      "dtypes: float64(1), int64(7), object(4)\n",
      "memory usage: 1.0+ MB\n"
     ]
    }
   ],
   "source": [
    "# Check data info\n",
    "data.info()"
   ]
  },
  {
   "cell_type": "code",
   "execution_count": 166,
   "id": "553cd923",
   "metadata": {},
   "outputs": [
    {
     "data": {
      "text/html": [
       "<div>\n",
       "<style scoped>\n",
       "    .dataframe tbody tr th:only-of-type {\n",
       "        vertical-align: middle;\n",
       "    }\n",
       "\n",
       "    .dataframe tbody tr th {\n",
       "        vertical-align: top;\n",
       "    }\n",
       "\n",
       "    .dataframe thead th {\n",
       "        text-align: right;\n",
       "    }\n",
       "</style>\n",
       "<table border=\"1\" class=\"dataframe\">\n",
       "  <thead>\n",
       "    <tr style=\"text-align: right;\">\n",
       "      <th></th>\n",
       "      <th>count</th>\n",
       "      <th>mean</th>\n",
       "      <th>std</th>\n",
       "      <th>min</th>\n",
       "      <th>25%</th>\n",
       "      <th>50%</th>\n",
       "      <th>75%</th>\n",
       "      <th>max</th>\n",
       "    </tr>\n",
       "  </thead>\n",
       "  <tbody>\n",
       "    <tr>\n",
       "      <th>ID</th>\n",
       "      <td>10999.0</td>\n",
       "      <td>5500.000000</td>\n",
       "      <td>3175.282140</td>\n",
       "      <td>1.0</td>\n",
       "      <td>2750.5</td>\n",
       "      <td>5500.0</td>\n",
       "      <td>8249.5</td>\n",
       "      <td>10999.0</td>\n",
       "    </tr>\n",
       "    <tr>\n",
       "      <th>Customer_care_calls</th>\n",
       "      <td>10983.0</td>\n",
       "      <td>4.054994</td>\n",
       "      <td>1.141460</td>\n",
       "      <td>2.0</td>\n",
       "      <td>3.0</td>\n",
       "      <td>4.0</td>\n",
       "      <td>5.0</td>\n",
       "      <td>7.0</td>\n",
       "    </tr>\n",
       "    <tr>\n",
       "      <th>Customer_rating</th>\n",
       "      <td>10999.0</td>\n",
       "      <td>2.990545</td>\n",
       "      <td>1.413603</td>\n",
       "      <td>1.0</td>\n",
       "      <td>2.0</td>\n",
       "      <td>3.0</td>\n",
       "      <td>4.0</td>\n",
       "      <td>5.0</td>\n",
       "    </tr>\n",
       "    <tr>\n",
       "      <th>Cost_of the_Product</th>\n",
       "      <td>10999.0</td>\n",
       "      <td>210.196836</td>\n",
       "      <td>48.063272</td>\n",
       "      <td>96.0</td>\n",
       "      <td>169.0</td>\n",
       "      <td>214.0</td>\n",
       "      <td>251.0</td>\n",
       "      <td>310.0</td>\n",
       "    </tr>\n",
       "    <tr>\n",
       "      <th>Prior purchases</th>\n",
       "      <td>10999.0</td>\n",
       "      <td>3.567597</td>\n",
       "      <td>1.522860</td>\n",
       "      <td>2.0</td>\n",
       "      <td>3.0</td>\n",
       "      <td>3.0</td>\n",
       "      <td>4.0</td>\n",
       "      <td>10.0</td>\n",
       "    </tr>\n",
       "    <tr>\n",
       "      <th>Discount_offered</th>\n",
       "      <td>10999.0</td>\n",
       "      <td>13.373216</td>\n",
       "      <td>16.205527</td>\n",
       "      <td>1.0</td>\n",
       "      <td>4.0</td>\n",
       "      <td>7.0</td>\n",
       "      <td>10.0</td>\n",
       "      <td>65.0</td>\n",
       "    </tr>\n",
       "    <tr>\n",
       "      <th>Weight_in_gms</th>\n",
       "      <td>10999.0</td>\n",
       "      <td>3634.016729</td>\n",
       "      <td>1635.377251</td>\n",
       "      <td>1001.0</td>\n",
       "      <td>1839.5</td>\n",
       "      <td>4149.0</td>\n",
       "      <td>5050.0</td>\n",
       "      <td>7846.0</td>\n",
       "    </tr>\n",
       "    <tr>\n",
       "      <th>Reached on Time_Y.N</th>\n",
       "      <td>10999.0</td>\n",
       "      <td>0.596691</td>\n",
       "      <td>0.490584</td>\n",
       "      <td>0.0</td>\n",
       "      <td>0.0</td>\n",
       "      <td>1.0</td>\n",
       "      <td>1.0</td>\n",
       "      <td>1.0</td>\n",
       "    </tr>\n",
       "  </tbody>\n",
       "</table>\n",
       "</div>"
      ],
      "text/plain": [
       "                         count         mean          std     min     25%  \\\n",
       "ID                     10999.0  5500.000000  3175.282140     1.0  2750.5   \n",
       " Customer_care_calls   10983.0     4.054994     1.141460     2.0     3.0   \n",
       "Customer_rating        10999.0     2.990545     1.413603     1.0     2.0   \n",
       " Cost_of the_Product   10999.0   210.196836    48.063272    96.0   169.0   \n",
       "Prior purchases        10999.0     3.567597     1.522860     2.0     3.0   \n",
       "Discount_offered       10999.0    13.373216    16.205527     1.0     4.0   \n",
       "Weight_in_gms          10999.0  3634.016729  1635.377251  1001.0  1839.5   \n",
       "Reached on Time_Y.N    10999.0     0.596691     0.490584     0.0     0.0   \n",
       "\n",
       "                          50%     75%      max  \n",
       "ID                     5500.0  8249.5  10999.0  \n",
       " Customer_care_calls      4.0     5.0      7.0  \n",
       "Customer_rating           3.0     4.0      5.0  \n",
       " Cost_of the_Product    214.0   251.0    310.0  \n",
       "Prior purchases           3.0     4.0     10.0  \n",
       "Discount_offered          7.0    10.0     65.0  \n",
       "Weight_in_gms          4149.0  5050.0   7846.0  \n",
       "Reached on Time_Y.N       1.0     1.0      1.0  "
      ]
     },
     "execution_count": 166,
     "metadata": {},
     "output_type": "execute_result"
    }
   ],
   "source": [
    "# Check data describe\n",
    "data.describe().T"
   ]
  },
  {
   "cell_type": "code",
   "execution_count": 167,
   "id": "9604bdb8",
   "metadata": {},
   "outputs": [
    {
     "data": {
      "text/plain": [
       "(10999, 12)"
      ]
     },
     "execution_count": 167,
     "metadata": {},
     "output_type": "execute_result"
    }
   ],
   "source": [
    "# Check data shape\n",
    "data.shape"
   ]
  },
  {
   "cell_type": "markdown",
   "id": "05c5605f",
   "metadata": {},
   "source": [
    "## Data Wrangling"
   ]
  },
  {
   "cell_type": "markdown",
   "id": "35e52d8e",
   "metadata": {},
   "source": [
    "### Check column names in order"
   ]
  },
  {
   "cell_type": "code",
   "execution_count": 168,
   "id": "5f73e3ab",
   "metadata": {},
   "outputs": [
    {
     "data": {
      "text/plain": [
       "Index(['ID', 'Warehouse_block', 'Mode_of_Shipment', ' Customer_care_calls',\n",
       "       'Customer_rating', ' Cost_of the_Product ', 'Prior purchases',\n",
       "       'Product_importance', 'GENDER', 'Discount_offered', 'Weight_in_gms',\n",
       "       'Reached on Time_Y.N'],\n",
       "      dtype='object')"
      ]
     },
     "execution_count": 168,
     "metadata": {},
     "output_type": "execute_result"
    }
   ],
   "source": [
    "# Check data columns\n",
    "data.columns"
   ]
  },
  {
   "cell_type": "code",
   "execution_count": 169,
   "id": "084eb3d7",
   "metadata": {},
   "outputs": [
    {
     "data": {
      "text/html": [
       "<div>\n",
       "<style scoped>\n",
       "    .dataframe tbody tr th:only-of-type {\n",
       "        vertical-align: middle;\n",
       "    }\n",
       "\n",
       "    .dataframe tbody tr th {\n",
       "        vertical-align: top;\n",
       "    }\n",
       "\n",
       "    .dataframe thead th {\n",
       "        text-align: right;\n",
       "    }\n",
       "</style>\n",
       "<table border=\"1\" class=\"dataframe\">\n",
       "  <thead>\n",
       "    <tr style=\"text-align: right;\">\n",
       "      <th></th>\n",
       "      <th>id</th>\n",
       "      <th>warehouse_block</th>\n",
       "      <th>mode_of_shipment</th>\n",
       "      <th>customer_care_calls</th>\n",
       "      <th>customer_rating</th>\n",
       "      <th>cost_of_the_product</th>\n",
       "      <th>prior_purchases</th>\n",
       "      <th>product_importance</th>\n",
       "      <th>gender</th>\n",
       "      <th>discount_offered</th>\n",
       "      <th>weight_in_gms</th>\n",
       "      <th>reached_on_time_y.n</th>\n",
       "    </tr>\n",
       "  </thead>\n",
       "  <tbody>\n",
       "    <tr>\n",
       "      <th>0</th>\n",
       "      <td>1</td>\n",
       "      <td>D</td>\n",
       "      <td>Flight</td>\n",
       "      <td>4.0</td>\n",
       "      <td>2</td>\n",
       "      <td>177</td>\n",
       "      <td>3</td>\n",
       "      <td>low</td>\n",
       "      <td>F</td>\n",
       "      <td>44</td>\n",
       "      <td>1233</td>\n",
       "      <td>1</td>\n",
       "    </tr>\n",
       "    <tr>\n",
       "      <th>1</th>\n",
       "      <td>2</td>\n",
       "      <td>F</td>\n",
       "      <td>Flight</td>\n",
       "      <td>4.0</td>\n",
       "      <td>5</td>\n",
       "      <td>216</td>\n",
       "      <td>2</td>\n",
       "      <td>low</td>\n",
       "      <td>M</td>\n",
       "      <td>59</td>\n",
       "      <td>3088</td>\n",
       "      <td>1</td>\n",
       "    </tr>\n",
       "    <tr>\n",
       "      <th>2</th>\n",
       "      <td>3</td>\n",
       "      <td>A</td>\n",
       "      <td>Flight</td>\n",
       "      <td>2.0</td>\n",
       "      <td>2</td>\n",
       "      <td>183</td>\n",
       "      <td>4</td>\n",
       "      <td>low</td>\n",
       "      <td>M</td>\n",
       "      <td>48</td>\n",
       "      <td>3374</td>\n",
       "      <td>1</td>\n",
       "    </tr>\n",
       "    <tr>\n",
       "      <th>3</th>\n",
       "      <td>4</td>\n",
       "      <td>B</td>\n",
       "      <td>Flight</td>\n",
       "      <td>3.0</td>\n",
       "      <td>3</td>\n",
       "      <td>176</td>\n",
       "      <td>4</td>\n",
       "      <td>medium</td>\n",
       "      <td>M</td>\n",
       "      <td>10</td>\n",
       "      <td>1177</td>\n",
       "      <td>1</td>\n",
       "    </tr>\n",
       "    <tr>\n",
       "      <th>4</th>\n",
       "      <td>5</td>\n",
       "      <td>C</td>\n",
       "      <td>Flight</td>\n",
       "      <td>2.0</td>\n",
       "      <td>2</td>\n",
       "      <td>184</td>\n",
       "      <td>3</td>\n",
       "      <td>medium</td>\n",
       "      <td>F</td>\n",
       "      <td>46</td>\n",
       "      <td>2484</td>\n",
       "      <td>1</td>\n",
       "    </tr>\n",
       "    <tr>\n",
       "      <th>...</th>\n",
       "      <td>...</td>\n",
       "      <td>...</td>\n",
       "      <td>...</td>\n",
       "      <td>...</td>\n",
       "      <td>...</td>\n",
       "      <td>...</td>\n",
       "      <td>...</td>\n",
       "      <td>...</td>\n",
       "      <td>...</td>\n",
       "      <td>...</td>\n",
       "      <td>...</td>\n",
       "      <td>...</td>\n",
       "    </tr>\n",
       "    <tr>\n",
       "      <th>10994</th>\n",
       "      <td>10995</td>\n",
       "      <td>A</td>\n",
       "      <td>Ship</td>\n",
       "      <td>4.0</td>\n",
       "      <td>1</td>\n",
       "      <td>252</td>\n",
       "      <td>5</td>\n",
       "      <td>medium</td>\n",
       "      <td>F</td>\n",
       "      <td>1</td>\n",
       "      <td>1538</td>\n",
       "      <td>1</td>\n",
       "    </tr>\n",
       "    <tr>\n",
       "      <th>10995</th>\n",
       "      <td>10996</td>\n",
       "      <td>B</td>\n",
       "      <td>Ship</td>\n",
       "      <td>4.0</td>\n",
       "      <td>1</td>\n",
       "      <td>232</td>\n",
       "      <td>5</td>\n",
       "      <td>medium</td>\n",
       "      <td>F</td>\n",
       "      <td>6</td>\n",
       "      <td>1247</td>\n",
       "      <td>0</td>\n",
       "    </tr>\n",
       "    <tr>\n",
       "      <th>10996</th>\n",
       "      <td>10997</td>\n",
       "      <td>C</td>\n",
       "      <td>Ship</td>\n",
       "      <td>5.0</td>\n",
       "      <td>4</td>\n",
       "      <td>242</td>\n",
       "      <td>5</td>\n",
       "      <td>low</td>\n",
       "      <td>F</td>\n",
       "      <td>4</td>\n",
       "      <td>1155</td>\n",
       "      <td>0</td>\n",
       "    </tr>\n",
       "    <tr>\n",
       "      <th>10997</th>\n",
       "      <td>10998</td>\n",
       "      <td>F</td>\n",
       "      <td>Ship</td>\n",
       "      <td>5.0</td>\n",
       "      <td>2</td>\n",
       "      <td>223</td>\n",
       "      <td>6</td>\n",
       "      <td>medium</td>\n",
       "      <td>M</td>\n",
       "      <td>2</td>\n",
       "      <td>1210</td>\n",
       "      <td>0</td>\n",
       "    </tr>\n",
       "    <tr>\n",
       "      <th>10998</th>\n",
       "      <td>10999</td>\n",
       "      <td>D</td>\n",
       "      <td>Ship</td>\n",
       "      <td>2.0</td>\n",
       "      <td>5</td>\n",
       "      <td>155</td>\n",
       "      <td>5</td>\n",
       "      <td>low</td>\n",
       "      <td>F</td>\n",
       "      <td>6</td>\n",
       "      <td>1639</td>\n",
       "      <td>0</td>\n",
       "    </tr>\n",
       "  </tbody>\n",
       "</table>\n",
       "<p>10999 rows × 12 columns</p>\n",
       "</div>"
      ],
      "text/plain": [
       "          id warehouse_block mode_of_shipment  customer_care_calls  \\\n",
       "0          1               D           Flight                  4.0   \n",
       "1          2               F           Flight                  4.0   \n",
       "2          3               A           Flight                  2.0   \n",
       "3          4               B           Flight                  3.0   \n",
       "4          5               C           Flight                  2.0   \n",
       "...      ...             ...              ...                  ...   \n",
       "10994  10995               A             Ship                  4.0   \n",
       "10995  10996               B             Ship                  4.0   \n",
       "10996  10997               C             Ship                  5.0   \n",
       "10997  10998               F             Ship                  5.0   \n",
       "10998  10999               D             Ship                  2.0   \n",
       "\n",
       "       customer_rating  cost_of_the_product  prior_purchases  \\\n",
       "0                    2                  177                3   \n",
       "1                    5                  216                2   \n",
       "2                    2                  183                4   \n",
       "3                    3                  176                4   \n",
       "4                    2                  184                3   \n",
       "...                ...                  ...              ...   \n",
       "10994                1                  252                5   \n",
       "10995                1                  232                5   \n",
       "10996                4                  242                5   \n",
       "10997                2                  223                6   \n",
       "10998                5                  155                5   \n",
       "\n",
       "      product_importance gender  discount_offered  weight_in_gms  \\\n",
       "0                    low      F                44           1233   \n",
       "1                    low      M                59           3088   \n",
       "2                    low      M                48           3374   \n",
       "3                 medium      M                10           1177   \n",
       "4                 medium      F                46           2484   \n",
       "...                  ...    ...               ...            ...   \n",
       "10994             medium      F                 1           1538   \n",
       "10995             medium      F                 6           1247   \n",
       "10996                low      F                 4           1155   \n",
       "10997             medium      M                 2           1210   \n",
       "10998                low      F                 6           1639   \n",
       "\n",
       "       reached_on_time_y.n  \n",
       "0                        1  \n",
       "1                        1  \n",
       "2                        1  \n",
       "3                        1  \n",
       "4                        1  \n",
       "...                    ...  \n",
       "10994                    1  \n",
       "10995                    0  \n",
       "10996                    0  \n",
       "10997                    0  \n",
       "10998                    0  \n",
       "\n",
       "[10999 rows x 12 columns]"
      ]
     },
     "execution_count": 169,
     "metadata": {},
     "output_type": "execute_result"
    }
   ],
   "source": [
    "# Clean column names\n",
    "# Actions: align the white spaces, lower the alphabets, all btween spaces replace with underscore\n",
    "\n",
    "def clean_column_name(column_names):\n",
    "    clean_column_names = []\n",
    "    for c in column_names:\n",
    "        c = c.strip()\n",
    "        c = c.lower().replace(' ', '_')\n",
    "        clean_column_names.append(c)\n",
    "        \n",
    "    return clean_column_names \n",
    "\n",
    "data.columns = clean_column_name(data)\n",
    "data"
   ]
  },
  {
   "cell_type": "markdown",
   "id": "7825ae56",
   "metadata": {},
   "source": [
    "### Check columns relevent to use"
   ]
  },
  {
   "cell_type": "code",
   "execution_count": 170,
   "id": "813e5fd0",
   "metadata": {},
   "outputs": [],
   "source": [
    "# set id as index\n",
    "data.set_index(\"id\", inplace = True)"
   ]
  },
  {
   "cell_type": "code",
   "execution_count": 171,
   "id": "5cbe6af2",
   "metadata": {},
   "outputs": [
    {
     "data": {
      "text/html": [
       "<div>\n",
       "<style scoped>\n",
       "    .dataframe tbody tr th:only-of-type {\n",
       "        vertical-align: middle;\n",
       "    }\n",
       "\n",
       "    .dataframe tbody tr th {\n",
       "        vertical-align: top;\n",
       "    }\n",
       "\n",
       "    .dataframe thead th {\n",
       "        text-align: right;\n",
       "    }\n",
       "</style>\n",
       "<table border=\"1\" class=\"dataframe\">\n",
       "  <thead>\n",
       "    <tr style=\"text-align: right;\">\n",
       "      <th></th>\n",
       "      <th>warehouse_block</th>\n",
       "      <th>mode_of_shipment</th>\n",
       "      <th>customer_care_calls</th>\n",
       "      <th>customer_rating</th>\n",
       "      <th>cost_of_the_product</th>\n",
       "      <th>prior_purchases</th>\n",
       "      <th>product_importance</th>\n",
       "      <th>gender</th>\n",
       "      <th>discount_offered</th>\n",
       "      <th>weight_in_gms</th>\n",
       "      <th>reached_on_time_y.n</th>\n",
       "    </tr>\n",
       "    <tr>\n",
       "      <th>id</th>\n",
       "      <th></th>\n",
       "      <th></th>\n",
       "      <th></th>\n",
       "      <th></th>\n",
       "      <th></th>\n",
       "      <th></th>\n",
       "      <th></th>\n",
       "      <th></th>\n",
       "      <th></th>\n",
       "      <th></th>\n",
       "      <th></th>\n",
       "    </tr>\n",
       "  </thead>\n",
       "  <tbody>\n",
       "    <tr>\n",
       "      <th>1</th>\n",
       "      <td>D</td>\n",
       "      <td>Flight</td>\n",
       "      <td>4.0</td>\n",
       "      <td>2</td>\n",
       "      <td>177</td>\n",
       "      <td>3</td>\n",
       "      <td>low</td>\n",
       "      <td>F</td>\n",
       "      <td>44</td>\n",
       "      <td>1233</td>\n",
       "      <td>1</td>\n",
       "    </tr>\n",
       "  </tbody>\n",
       "</table>\n",
       "</div>"
      ],
      "text/plain": [
       "   warehouse_block mode_of_shipment  customer_care_calls  customer_rating  \\\n",
       "id                                                                          \n",
       "1                D           Flight                  4.0                2   \n",
       "\n",
       "    cost_of_the_product  prior_purchases product_importance gender  \\\n",
       "id                                                                   \n",
       "1                   177                3                low      F   \n",
       "\n",
       "    discount_offered  weight_in_gms  reached_on_time_y.n  \n",
       "id                                                        \n",
       "1                 44           1233                    1  "
      ]
     },
     "execution_count": 171,
     "metadata": {},
     "output_type": "execute_result"
    }
   ],
   "source": [
    "# check id have been set as index\n",
    "data[0:1]"
   ]
  },
  {
   "cell_type": "markdown",
   "id": "5f5924ba",
   "metadata": {},
   "source": [
    "### Check Null Values"
   ]
  },
  {
   "cell_type": "code",
   "execution_count": 172,
   "id": "17716055",
   "metadata": {},
   "outputs": [
    {
     "data": {
      "text/plain": [
       "16"
      ]
     },
     "execution_count": 172,
     "metadata": {},
     "output_type": "execute_result"
    }
   ],
   "source": [
    "# Check total sum of null values\n",
    "data.isnull().sum().sum()"
   ]
  },
  {
   "cell_type": "code",
   "execution_count": 173,
   "id": "8ac919b6",
   "metadata": {},
   "outputs": [
    {
     "data": {
      "text/plain": [
       "warehouse_block         0\n",
       "mode_of_shipment        0\n",
       "customer_care_calls    16\n",
       "customer_rating         0\n",
       "cost_of_the_product     0\n",
       "prior_purchases         0\n",
       "product_importance      0\n",
       "gender                  0\n",
       "discount_offered        0\n",
       "weight_in_gms           0\n",
       "reached_on_time_y.n     0\n",
       "dtype: int64"
      ]
     },
     "execution_count": 173,
     "metadata": {},
     "output_type": "execute_result"
    }
   ],
   "source": [
    "# Check total sum of null values in each columns\n",
    "data.isnull().sum()"
   ]
  },
  {
   "cell_type": "code",
   "execution_count": 174,
   "id": "8a444330",
   "metadata": {},
   "outputs": [
    {
     "data": {
      "text/html": [
       "<div>\n",
       "<style scoped>\n",
       "    .dataframe tbody tr th:only-of-type {\n",
       "        vertical-align: middle;\n",
       "    }\n",
       "\n",
       "    .dataframe tbody tr th {\n",
       "        vertical-align: top;\n",
       "    }\n",
       "\n",
       "    .dataframe thead th {\n",
       "        text-align: right;\n",
       "    }\n",
       "</style>\n",
       "<table border=\"1\" class=\"dataframe\">\n",
       "  <thead>\n",
       "    <tr style=\"text-align: right;\">\n",
       "      <th></th>\n",
       "      <th>warehouse_block</th>\n",
       "      <th>mode_of_shipment</th>\n",
       "      <th>customer_care_calls</th>\n",
       "      <th>customer_rating</th>\n",
       "      <th>cost_of_the_product</th>\n",
       "      <th>prior_purchases</th>\n",
       "      <th>product_importance</th>\n",
       "      <th>gender</th>\n",
       "      <th>discount_offered</th>\n",
       "      <th>weight_in_gms</th>\n",
       "      <th>reached_on_time_y.n</th>\n",
       "    </tr>\n",
       "    <tr>\n",
       "      <th>id</th>\n",
       "      <th></th>\n",
       "      <th></th>\n",
       "      <th></th>\n",
       "      <th></th>\n",
       "      <th></th>\n",
       "      <th></th>\n",
       "      <th></th>\n",
       "      <th></th>\n",
       "      <th></th>\n",
       "      <th></th>\n",
       "      <th></th>\n",
       "    </tr>\n",
       "  </thead>\n",
       "  <tbody>\n",
       "    <tr>\n",
       "      <th>78</th>\n",
       "      <td>F</td>\n",
       "      <td>Ship</td>\n",
       "      <td>NaN</td>\n",
       "      <td>3</td>\n",
       "      <td>113</td>\n",
       "      <td>3</td>\n",
       "      <td>low</td>\n",
       "      <td>F</td>\n",
       "      <td>43</td>\n",
       "      <td>1518</td>\n",
       "      <td>1</td>\n",
       "    </tr>\n",
       "    <tr>\n",
       "      <th>79</th>\n",
       "      <td>D</td>\n",
       "      <td>Ship</td>\n",
       "      <td>NaN</td>\n",
       "      <td>4</td>\n",
       "      <td>223</td>\n",
       "      <td>3</td>\n",
       "      <td>low</td>\n",
       "      <td>M</td>\n",
       "      <td>18</td>\n",
       "      <td>3959</td>\n",
       "      <td>1</td>\n",
       "    </tr>\n",
       "    <tr>\n",
       "      <th>80</th>\n",
       "      <td>F</td>\n",
       "      <td>Ship</td>\n",
       "      <td>NaN</td>\n",
       "      <td>5</td>\n",
       "      <td>257</td>\n",
       "      <td>2</td>\n",
       "      <td>medium</td>\n",
       "      <td>F</td>\n",
       "      <td>56</td>\n",
       "      <td>3711</td>\n",
       "      <td>1</td>\n",
       "    </tr>\n",
       "    <tr>\n",
       "      <th>81</th>\n",
       "      <td>A</td>\n",
       "      <td>Ship</td>\n",
       "      <td>NaN</td>\n",
       "      <td>4</td>\n",
       "      <td>180</td>\n",
       "      <td>2</td>\n",
       "      <td>medium</td>\n",
       "      <td>F</td>\n",
       "      <td>49</td>\n",
       "      <td>1942</td>\n",
       "      <td>1</td>\n",
       "    </tr>\n",
       "    <tr>\n",
       "      <th>82</th>\n",
       "      <td>B</td>\n",
       "      <td>Ship</td>\n",
       "      <td>NaN</td>\n",
       "      <td>5</td>\n",
       "      <td>132</td>\n",
       "      <td>3</td>\n",
       "      <td>low</td>\n",
       "      <td>M</td>\n",
       "      <td>18</td>\n",
       "      <td>1759</td>\n",
       "      <td>1</td>\n",
       "    </tr>\n",
       "    <tr>\n",
       "      <th>83</th>\n",
       "      <td>C</td>\n",
       "      <td>Ship</td>\n",
       "      <td>NaN</td>\n",
       "      <td>4</td>\n",
       "      <td>217</td>\n",
       "      <td>3</td>\n",
       "      <td>high</td>\n",
       "      <td>F</td>\n",
       "      <td>26</td>\n",
       "      <td>2875</td>\n",
       "      <td>1</td>\n",
       "    </tr>\n",
       "    <tr>\n",
       "      <th>84</th>\n",
       "      <td>F</td>\n",
       "      <td>Ship</td>\n",
       "      <td>NaN</td>\n",
       "      <td>5</td>\n",
       "      <td>162</td>\n",
       "      <td>3</td>\n",
       "      <td>high</td>\n",
       "      <td>F</td>\n",
       "      <td>31</td>\n",
       "      <td>1364</td>\n",
       "      <td>1</td>\n",
       "    </tr>\n",
       "    <tr>\n",
       "      <th>85</th>\n",
       "      <td>D</td>\n",
       "      <td>Ship</td>\n",
       "      <td>NaN</td>\n",
       "      <td>5</td>\n",
       "      <td>197</td>\n",
       "      <td>2</td>\n",
       "      <td>medium</td>\n",
       "      <td>F</td>\n",
       "      <td>40</td>\n",
       "      <td>2710</td>\n",
       "      <td>1</td>\n",
       "    </tr>\n",
       "    <tr>\n",
       "      <th>86</th>\n",
       "      <td>F</td>\n",
       "      <td>Ship</td>\n",
       "      <td>NaN</td>\n",
       "      <td>4</td>\n",
       "      <td>197</td>\n",
       "      <td>3</td>\n",
       "      <td>medium</td>\n",
       "      <td>M</td>\n",
       "      <td>13</td>\n",
       "      <td>2148</td>\n",
       "      <td>1</td>\n",
       "    </tr>\n",
       "    <tr>\n",
       "      <th>87</th>\n",
       "      <td>A</td>\n",
       "      <td>Ship</td>\n",
       "      <td>NaN</td>\n",
       "      <td>1</td>\n",
       "      <td>185</td>\n",
       "      <td>2</td>\n",
       "      <td>low</td>\n",
       "      <td>M</td>\n",
       "      <td>44</td>\n",
       "      <td>2910</td>\n",
       "      <td>1</td>\n",
       "    </tr>\n",
       "    <tr>\n",
       "      <th>88</th>\n",
       "      <td>B</td>\n",
       "      <td>Ship</td>\n",
       "      <td>NaN</td>\n",
       "      <td>2</td>\n",
       "      <td>278</td>\n",
       "      <td>3</td>\n",
       "      <td>medium</td>\n",
       "      <td>F</td>\n",
       "      <td>3</td>\n",
       "      <td>2974</td>\n",
       "      <td>1</td>\n",
       "    </tr>\n",
       "    <tr>\n",
       "      <th>89</th>\n",
       "      <td>C</td>\n",
       "      <td>Ship</td>\n",
       "      <td>NaN</td>\n",
       "      <td>3</td>\n",
       "      <td>229</td>\n",
       "      <td>3</td>\n",
       "      <td>low</td>\n",
       "      <td>M</td>\n",
       "      <td>49</td>\n",
       "      <td>2339</td>\n",
       "      <td>1</td>\n",
       "    </tr>\n",
       "    <tr>\n",
       "      <th>90</th>\n",
       "      <td>F</td>\n",
       "      <td>Ship</td>\n",
       "      <td>NaN</td>\n",
       "      <td>1</td>\n",
       "      <td>186</td>\n",
       "      <td>4</td>\n",
       "      <td>medium</td>\n",
       "      <td>F</td>\n",
       "      <td>57</td>\n",
       "      <td>3880</td>\n",
       "      <td>1</td>\n",
       "    </tr>\n",
       "    <tr>\n",
       "      <th>142</th>\n",
       "      <td>B</td>\n",
       "      <td>Flight</td>\n",
       "      <td>NaN</td>\n",
       "      <td>4</td>\n",
       "      <td>149</td>\n",
       "      <td>3</td>\n",
       "      <td>low</td>\n",
       "      <td>M</td>\n",
       "      <td>51</td>\n",
       "      <td>1645</td>\n",
       "      <td>1</td>\n",
       "    </tr>\n",
       "    <tr>\n",
       "      <th>143</th>\n",
       "      <td>C</td>\n",
       "      <td>Flight</td>\n",
       "      <td>NaN</td>\n",
       "      <td>5</td>\n",
       "      <td>162</td>\n",
       "      <td>3</td>\n",
       "      <td>low</td>\n",
       "      <td>M</td>\n",
       "      <td>41</td>\n",
       "      <td>1462</td>\n",
       "      <td>1</td>\n",
       "    </tr>\n",
       "    <tr>\n",
       "      <th>144</th>\n",
       "      <td>F</td>\n",
       "      <td>Flight</td>\n",
       "      <td>NaN</td>\n",
       "      <td>1</td>\n",
       "      <td>205</td>\n",
       "      <td>4</td>\n",
       "      <td>medium</td>\n",
       "      <td>F</td>\n",
       "      <td>63</td>\n",
       "      <td>2156</td>\n",
       "      <td>1</td>\n",
       "    </tr>\n",
       "  </tbody>\n",
       "</table>\n",
       "</div>"
      ],
      "text/plain": [
       "    warehouse_block mode_of_shipment  customer_care_calls  customer_rating  \\\n",
       "id                                                                           \n",
       "78                F             Ship                  NaN                3   \n",
       "79                D             Ship                  NaN                4   \n",
       "80                F             Ship                  NaN                5   \n",
       "81                A             Ship                  NaN                4   \n",
       "82                B             Ship                  NaN                5   \n",
       "83                C             Ship                  NaN                4   \n",
       "84                F             Ship                  NaN                5   \n",
       "85                D             Ship                  NaN                5   \n",
       "86                F             Ship                  NaN                4   \n",
       "87                A             Ship                  NaN                1   \n",
       "88                B             Ship                  NaN                2   \n",
       "89                C             Ship                  NaN                3   \n",
       "90                F             Ship                  NaN                1   \n",
       "142               B           Flight                  NaN                4   \n",
       "143               C           Flight                  NaN                5   \n",
       "144               F           Flight                  NaN                1   \n",
       "\n",
       "     cost_of_the_product  prior_purchases product_importance gender  \\\n",
       "id                                                                    \n",
       "78                   113                3                low      F   \n",
       "79                   223                3                low      M   \n",
       "80                   257                2             medium      F   \n",
       "81                   180                2             medium      F   \n",
       "82                   132                3                low      M   \n",
       "83                   217                3               high      F   \n",
       "84                   162                3               high      F   \n",
       "85                   197                2             medium      F   \n",
       "86                   197                3             medium      M   \n",
       "87                   185                2                low      M   \n",
       "88                   278                3             medium      F   \n",
       "89                   229                3                low      M   \n",
       "90                   186                4             medium      F   \n",
       "142                  149                3                low      M   \n",
       "143                  162                3                low      M   \n",
       "144                  205                4             medium      F   \n",
       "\n",
       "     discount_offered  weight_in_gms  reached_on_time_y.n  \n",
       "id                                                         \n",
       "78                 43           1518                    1  \n",
       "79                 18           3959                    1  \n",
       "80                 56           3711                    1  \n",
       "81                 49           1942                    1  \n",
       "82                 18           1759                    1  \n",
       "83                 26           2875                    1  \n",
       "84                 31           1364                    1  \n",
       "85                 40           2710                    1  \n",
       "86                 13           2148                    1  \n",
       "87                 44           2910                    1  \n",
       "88                  3           2974                    1  \n",
       "89                 49           2339                    1  \n",
       "90                 57           3880                    1  \n",
       "142                51           1645                    1  \n",
       "143                41           1462                    1  \n",
       "144                63           2156                    1  "
      ]
     },
     "execution_count": 174,
     "metadata": {},
     "output_type": "execute_result"
    }
   ],
   "source": [
    "# Checking rows where null values are in customer_care_calls\n",
    "data[data['customer_care_calls'].isnull()]"
   ]
  },
  {
   "cell_type": "code",
   "execution_count": 175,
   "id": "3b65560c",
   "metadata": {},
   "outputs": [],
   "source": [
    "# replace null with average calls\n",
    "\n",
    "data['customer_care_calls'].fillna(data['customer_care_calls'].mean(), inplace = True)"
   ]
  },
  {
   "cell_type": "code",
   "execution_count": 176,
   "id": "c75de279",
   "metadata": {},
   "outputs": [
    {
     "data": {
      "text/html": [
       "<div>\n",
       "<style scoped>\n",
       "    .dataframe tbody tr th:only-of-type {\n",
       "        vertical-align: middle;\n",
       "    }\n",
       "\n",
       "    .dataframe tbody tr th {\n",
       "        vertical-align: top;\n",
       "    }\n",
       "\n",
       "    .dataframe thead th {\n",
       "        text-align: right;\n",
       "    }\n",
       "</style>\n",
       "<table border=\"1\" class=\"dataframe\">\n",
       "  <thead>\n",
       "    <tr style=\"text-align: right;\">\n",
       "      <th></th>\n",
       "      <th>warehouse_block</th>\n",
       "      <th>mode_of_shipment</th>\n",
       "      <th>customer_care_calls</th>\n",
       "      <th>customer_rating</th>\n",
       "      <th>cost_of_the_product</th>\n",
       "      <th>prior_purchases</th>\n",
       "      <th>product_importance</th>\n",
       "      <th>gender</th>\n",
       "      <th>discount_offered</th>\n",
       "      <th>weight_in_gms</th>\n",
       "      <th>reached_on_time_y.n</th>\n",
       "    </tr>\n",
       "    <tr>\n",
       "      <th>id</th>\n",
       "      <th></th>\n",
       "      <th></th>\n",
       "      <th></th>\n",
       "      <th></th>\n",
       "      <th></th>\n",
       "      <th></th>\n",
       "      <th></th>\n",
       "      <th></th>\n",
       "      <th></th>\n",
       "      <th></th>\n",
       "      <th></th>\n",
       "    </tr>\n",
       "  </thead>\n",
       "  <tbody>\n",
       "  </tbody>\n",
       "</table>\n",
       "</div>"
      ],
      "text/plain": [
       "Empty DataFrame\n",
       "Columns: [warehouse_block, mode_of_shipment, customer_care_calls, customer_rating, cost_of_the_product, prior_purchases, product_importance, gender, discount_offered, weight_in_gms, reached_on_time_y.n]\n",
       "Index: []"
      ]
     },
     "execution_count": 176,
     "metadata": {},
     "output_type": "execute_result"
    }
   ],
   "source": [
    "# Double check any more null values\n",
    "data[data['customer_care_calls'].isnull()]"
   ]
  },
  {
   "cell_type": "markdown",
   "id": "a22935bb",
   "metadata": {},
   "source": [
    "### Check data if it is required to change data types"
   ]
  },
  {
   "cell_type": "code",
   "execution_count": 177,
   "id": "299494d0",
   "metadata": {},
   "outputs": [
    {
     "data": {
      "text/plain": [
       "warehouse_block         object\n",
       "mode_of_shipment        object\n",
       "customer_care_calls    float64\n",
       "customer_rating          int64\n",
       "cost_of_the_product      int64\n",
       "prior_purchases          int64\n",
       "product_importance      object\n",
       "gender                  object\n",
       "discount_offered         int64\n",
       "weight_in_gms            int64\n",
       "reached_on_time_y.n      int64\n",
       "dtype: object"
      ]
     },
     "execution_count": 177,
     "metadata": {},
     "output_type": "execute_result"
    }
   ],
   "source": [
    "# Check customer_care_calls dtypes\n",
    "data.dtypes"
   ]
  },
  {
   "cell_type": "code",
   "execution_count": 178,
   "id": "618d2657",
   "metadata": {},
   "outputs": [],
   "source": [
    "# Change customer_care_calls from float to interger (Number of calls)\n",
    "\n",
    "data['customer_care_calls'] = data['customer_care_calls'].apply(int)"
   ]
  },
  {
   "cell_type": "code",
   "execution_count": 179,
   "id": "dd4f092c",
   "metadata": {},
   "outputs": [],
   "source": [
    "# Add new column for gender to \n",
    "# male 0\n",
    "# female 1\n",
    "\n",
    "\n",
    "data['gender_r'] = data['gender']\n",
    "data['gender_r'].replace('M',0, inplace =True)\n",
    "data['gender_r'].replace('F',1, inplace =True)"
   ]
  },
  {
   "cell_type": "code",
   "execution_count": 180,
   "id": "fbb763b5",
   "metadata": {},
   "outputs": [],
   "source": [
    "# Add new column and replace feature values with scale for product_importance\n",
    "\n",
    "data['product_importance_r'] = data['product_importance']\n",
    "\n",
    "scale_mapper = {\"low\":1, \"medium\":2, \"high\":3}\n",
    "\n",
    "data['product_importance_r'].replace(scale_mapper, inplace = True)"
   ]
  },
  {
   "cell_type": "code",
   "execution_count": 181,
   "id": "3e245c67",
   "metadata": {},
   "outputs": [],
   "source": [
    "# Add new column and replace feature values with scale for on time delivery\n",
    "# Replace 1 with no\n",
    "# Replace 0 with yes\n",
    "\n",
    "\n",
    "data['reached_on_time_y.n_r'] = data['reached_on_time_y.n']\n",
    "\n",
    "scale_mapper = {1:\"no\", 0:\"yes\"}\n",
    "\n",
    "data['reached_on_time_y.n_r'].replace(scale_mapper, inplace = True)"
   ]
  },
  {
   "cell_type": "code",
   "execution_count": 182,
   "id": "0bde7f2d",
   "metadata": {},
   "outputs": [
    {
     "data": {
      "text/plain": [
       "warehouse_block          object\n",
       "mode_of_shipment         object\n",
       "customer_care_calls       int64\n",
       "customer_rating           int64\n",
       "cost_of_the_product       int64\n",
       "prior_purchases           int64\n",
       "product_importance       object\n",
       "gender                   object\n",
       "discount_offered          int64\n",
       "weight_in_gms             int64\n",
       "reached_on_time_y.n       int64\n",
       "gender_r                  int64\n",
       "product_importance_r      int64\n",
       "reached_on_time_y.n_r    object\n",
       "dtype: object"
      ]
     },
     "execution_count": 182,
     "metadata": {},
     "output_type": "execute_result"
    }
   ],
   "source": [
    "# Check dtypes correctly reflected\n",
    "data.dtypes"
   ]
  },
  {
   "cell_type": "code",
   "execution_count": 183,
   "id": "7ed4bb51",
   "metadata": {},
   "outputs": [
    {
     "data": {
      "text/plain": [
       "warehouse_block             5\n",
       "mode_of_shipment            3\n",
       "customer_care_calls         6\n",
       "customer_rating             5\n",
       "cost_of_the_product       215\n",
       "prior_purchases             8\n",
       "product_importance          3\n",
       "gender                      2\n",
       "discount_offered           65\n",
       "weight_in_gms            4034\n",
       "reached_on_time_y.n         2\n",
       "gender_r                    2\n",
       "product_importance_r        3\n",
       "reached_on_time_y.n_r       2\n",
       "dtype: int64"
      ]
     },
     "execution_count": 183,
     "metadata": {},
     "output_type": "execute_result"
    }
   ],
   "source": [
    "#Check the number of unique values for each column\n",
    "data.nunique()"
   ]
  },
  {
   "cell_type": "markdown",
   "id": "1ff5fbd7",
   "metadata": {},
   "source": [
    "### Check Min, Max of Each Column"
   ]
  },
  {
   "cell_type": "code",
   "execution_count": 184,
   "id": "7d5e1409",
   "metadata": {},
   "outputs": [],
   "source": [
    "def check_min_max(df):\n",
    "    # Check min, max of each column\n",
    "    print(df.describe().T[['min', 'max']])"
   ]
  },
  {
   "cell_type": "code",
   "execution_count": 185,
   "id": "d7367180",
   "metadata": {},
   "outputs": [
    {
     "name": "stdout",
     "output_type": "stream",
     "text": [
      "                         min     max\n",
      "customer_care_calls      2.0     7.0\n",
      "customer_rating          1.0     5.0\n",
      "cost_of_the_product     96.0   310.0\n",
      "prior_purchases          2.0    10.0\n",
      "discount_offered         1.0    65.0\n",
      "weight_in_gms         1001.0  7846.0\n",
      "reached_on_time_y.n      0.0     1.0\n",
      "gender_r                 0.0     1.0\n",
      "product_importance_r     1.0     3.0\n"
     ]
    }
   ],
   "source": [
    "check_min_max(data)"
   ]
  },
  {
   "cell_type": "code",
   "execution_count": 186,
   "id": "a8ba1bf5",
   "metadata": {},
   "outputs": [
    {
     "data": {
      "text/plain": [
       "warehouse_block          object\n",
       "mode_of_shipment         object\n",
       "customer_care_calls       int64\n",
       "customer_rating           int64\n",
       "cost_of_the_product       int64\n",
       "prior_purchases           int64\n",
       "product_importance       object\n",
       "gender                   object\n",
       "discount_offered          int64\n",
       "weight_in_gms             int64\n",
       "reached_on_time_y.n       int64\n",
       "gender_r                  int64\n",
       "product_importance_r      int64\n",
       "reached_on_time_y.n_r    object\n",
       "dtype: object"
      ]
     },
     "execution_count": 186,
     "metadata": {},
     "output_type": "execute_result"
    }
   ],
   "source": [
    "data.dtypes"
   ]
  },
  {
   "cell_type": "code",
   "execution_count": 187,
   "id": "0fe2c85d",
   "metadata": {},
   "outputs": [
    {
     "data": {
      "text/html": [
       "<div>\n",
       "<style scoped>\n",
       "    .dataframe tbody tr th:only-of-type {\n",
       "        vertical-align: middle;\n",
       "    }\n",
       "\n",
       "    .dataframe tbody tr th {\n",
       "        vertical-align: top;\n",
       "    }\n",
       "\n",
       "    .dataframe thead th {\n",
       "        text-align: right;\n",
       "    }\n",
       "</style>\n",
       "<table border=\"1\" class=\"dataframe\">\n",
       "  <thead>\n",
       "    <tr style=\"text-align: right;\">\n",
       "      <th></th>\n",
       "      <th>warehouse_block</th>\n",
       "      <th>mode_of_shipment</th>\n",
       "      <th>customer_care_calls</th>\n",
       "      <th>customer_rating</th>\n",
       "      <th>cost_of_the_product</th>\n",
       "      <th>prior_purchases</th>\n",
       "      <th>product_importance</th>\n",
       "      <th>gender</th>\n",
       "      <th>discount_offered</th>\n",
       "      <th>weight_in_gms</th>\n",
       "      <th>reached_on_time_y.n</th>\n",
       "      <th>gender_r</th>\n",
       "      <th>product_importance_r</th>\n",
       "      <th>reached_on_time_y.n_r</th>\n",
       "    </tr>\n",
       "    <tr>\n",
       "      <th>id</th>\n",
       "      <th></th>\n",
       "      <th></th>\n",
       "      <th></th>\n",
       "      <th></th>\n",
       "      <th></th>\n",
       "      <th></th>\n",
       "      <th></th>\n",
       "      <th></th>\n",
       "      <th></th>\n",
       "      <th></th>\n",
       "      <th></th>\n",
       "      <th></th>\n",
       "      <th></th>\n",
       "      <th></th>\n",
       "    </tr>\n",
       "  </thead>\n",
       "  <tbody>\n",
       "    <tr>\n",
       "      <th>1</th>\n",
       "      <td>D</td>\n",
       "      <td>Flight</td>\n",
       "      <td>4</td>\n",
       "      <td>2</td>\n",
       "      <td>177</td>\n",
       "      <td>3</td>\n",
       "      <td>low</td>\n",
       "      <td>F</td>\n",
       "      <td>44</td>\n",
       "      <td>1233</td>\n",
       "      <td>1</td>\n",
       "      <td>1</td>\n",
       "      <td>1</td>\n",
       "      <td>no</td>\n",
       "    </tr>\n",
       "    <tr>\n",
       "      <th>2</th>\n",
       "      <td>F</td>\n",
       "      <td>Flight</td>\n",
       "      <td>4</td>\n",
       "      <td>5</td>\n",
       "      <td>216</td>\n",
       "      <td>2</td>\n",
       "      <td>low</td>\n",
       "      <td>M</td>\n",
       "      <td>59</td>\n",
       "      <td>3088</td>\n",
       "      <td>1</td>\n",
       "      <td>0</td>\n",
       "      <td>1</td>\n",
       "      <td>no</td>\n",
       "    </tr>\n",
       "    <tr>\n",
       "      <th>3</th>\n",
       "      <td>A</td>\n",
       "      <td>Flight</td>\n",
       "      <td>2</td>\n",
       "      <td>2</td>\n",
       "      <td>183</td>\n",
       "      <td>4</td>\n",
       "      <td>low</td>\n",
       "      <td>M</td>\n",
       "      <td>48</td>\n",
       "      <td>3374</td>\n",
       "      <td>1</td>\n",
       "      <td>0</td>\n",
       "      <td>1</td>\n",
       "      <td>no</td>\n",
       "    </tr>\n",
       "    <tr>\n",
       "      <th>4</th>\n",
       "      <td>B</td>\n",
       "      <td>Flight</td>\n",
       "      <td>3</td>\n",
       "      <td>3</td>\n",
       "      <td>176</td>\n",
       "      <td>4</td>\n",
       "      <td>medium</td>\n",
       "      <td>M</td>\n",
       "      <td>10</td>\n",
       "      <td>1177</td>\n",
       "      <td>1</td>\n",
       "      <td>0</td>\n",
       "      <td>2</td>\n",
       "      <td>no</td>\n",
       "    </tr>\n",
       "    <tr>\n",
       "      <th>5</th>\n",
       "      <td>C</td>\n",
       "      <td>Flight</td>\n",
       "      <td>2</td>\n",
       "      <td>2</td>\n",
       "      <td>184</td>\n",
       "      <td>3</td>\n",
       "      <td>medium</td>\n",
       "      <td>F</td>\n",
       "      <td>46</td>\n",
       "      <td>2484</td>\n",
       "      <td>1</td>\n",
       "      <td>1</td>\n",
       "      <td>2</td>\n",
       "      <td>no</td>\n",
       "    </tr>\n",
       "  </tbody>\n",
       "</table>\n",
       "</div>"
      ],
      "text/plain": [
       "   warehouse_block mode_of_shipment  customer_care_calls  customer_rating  \\\n",
       "id                                                                          \n",
       "1                D           Flight                    4                2   \n",
       "2                F           Flight                    4                5   \n",
       "3                A           Flight                    2                2   \n",
       "4                B           Flight                    3                3   \n",
       "5                C           Flight                    2                2   \n",
       "\n",
       "    cost_of_the_product  prior_purchases product_importance gender  \\\n",
       "id                                                                   \n",
       "1                   177                3                low      F   \n",
       "2                   216                2                low      M   \n",
       "3                   183                4                low      M   \n",
       "4                   176                4             medium      M   \n",
       "5                   184                3             medium      F   \n",
       "\n",
       "    discount_offered  weight_in_gms  reached_on_time_y.n  gender_r  \\\n",
       "id                                                                   \n",
       "1                 44           1233                    1         1   \n",
       "2                 59           3088                    1         0   \n",
       "3                 48           3374                    1         0   \n",
       "4                 10           1177                    1         0   \n",
       "5                 46           2484                    1         1   \n",
       "\n",
       "    product_importance_r reached_on_time_y.n_r  \n",
       "id                                              \n",
       "1                      1                    no  \n",
       "2                      1                    no  \n",
       "3                      1                    no  \n",
       "4                      2                    no  \n",
       "5                      2                    no  "
      ]
     },
     "execution_count": 187,
     "metadata": {},
     "output_type": "execute_result"
    }
   ],
   "source": [
    "data.head()"
   ]
  },
  {
   "cell_type": "markdown",
   "id": "0f274d1c",
   "metadata": {},
   "source": [
    "### Analyzing the data "
   ]
  },
  {
   "cell_type": "markdown",
   "id": "912aa9ec",
   "metadata": {},
   "source": [
    "### Pie charts for all columns with value_counts - Demographics "
   ]
  },
  {
   "cell_type": "code",
   "execution_count": 188,
   "id": "6c7be253",
   "metadata": {},
   "outputs": [],
   "source": [
    "# Create a function for repeated value_counts\n",
    "def value_count_columns(column):\n",
    "    a = data[column].value_counts().reset_index()\n",
    "    return a"
   ]
  },
  {
   "cell_type": "code",
   "execution_count": 189,
   "id": "bdbd59ae",
   "metadata": {},
   "outputs": [
    {
     "data": {
      "text/html": [
       "<div>\n",
       "<style scoped>\n",
       "    .dataframe tbody tr th:only-of-type {\n",
       "        vertical-align: middle;\n",
       "    }\n",
       "\n",
       "    .dataframe tbody tr th {\n",
       "        vertical-align: top;\n",
       "    }\n",
       "\n",
       "    .dataframe thead th {\n",
       "        text-align: right;\n",
       "    }\n",
       "</style>\n",
       "<table border=\"1\" class=\"dataframe\">\n",
       "  <thead>\n",
       "    <tr style=\"text-align: right;\">\n",
       "      <th></th>\n",
       "      <th>index</th>\n",
       "      <th>warehouse_block</th>\n",
       "    </tr>\n",
       "  </thead>\n",
       "  <tbody>\n",
       "    <tr>\n",
       "      <th>2</th>\n",
       "      <td>A</td>\n",
       "      <td>1833</td>\n",
       "    </tr>\n",
       "    <tr>\n",
       "      <th>3</th>\n",
       "      <td>B</td>\n",
       "      <td>1833</td>\n",
       "    </tr>\n",
       "    <tr>\n",
       "      <th>4</th>\n",
       "      <td>C</td>\n",
       "      <td>1833</td>\n",
       "    </tr>\n",
       "    <tr>\n",
       "      <th>1</th>\n",
       "      <td>D</td>\n",
       "      <td>1834</td>\n",
       "    </tr>\n",
       "    <tr>\n",
       "      <th>0</th>\n",
       "      <td>F</td>\n",
       "      <td>3666</td>\n",
       "    </tr>\n",
       "  </tbody>\n",
       "</table>\n",
       "</div>"
      ],
      "text/plain": [
       "  index  warehouse_block\n",
       "2     A             1833\n",
       "3     B             1833\n",
       "4     C             1833\n",
       "1     D             1834\n",
       "0     F             3666"
      ]
     },
     "execution_count": 189,
     "metadata": {},
     "output_type": "execute_result"
    }
   ],
   "source": [
    "# value_count for warehouse_block\n",
    "warehse = value_count_columns('warehouse_block')\n",
    "warehse.sort_values(by=['index'], axis = 0)"
   ]
  },
  {
   "cell_type": "code",
   "execution_count": 190,
   "id": "d8df9482",
   "metadata": {},
   "outputs": [
    {
     "data": {
      "image/png": "[encoded data removed]",
      "text/plain": [
       "<Figure size 1300x400 with 1 Axes>"
      ]
     },
     "metadata": {},
     "output_type": "display_data"
    }
   ],
   "source": [
    "# Pie chart showing the value count for each warehouse_block\n",
    "labels = 'A', 'B', 'C','D', 'F' \n",
    "frequency = [1833, 1833, 1833,1834,3666]\n",
    "fig1, ax1 = plt.subplots()\n",
    "explode = (0, 0, 0,0,0)\n",
    "colors = ['#ff9999','#66b3ff','#99ff99','#ffcc99', '#C875C4']\n",
    "ax1.pie(frequency, explode=explode, labels=labels, autopct='%1.1f%%',\n",
    "        shadow=False, startangle=90, colors = colors)\n",
    "ax1.axis('equal')  # Equal aspect ratio ensures that pie is drawn as a circle.\n",
    "plt.title('Warehouse block usage')\n",
    "plt.savefig('Warehouse block usage.png', facecolor='w', dpi=300)\n",
    "plt.show()\n",
    "\n",
    "# Findings\n",
    "# Block F is the most common and frequent warehouse use"
   ]
  },
  {
   "cell_type": "code",
   "execution_count": 191,
   "id": "cc9df5fb",
   "metadata": {},
   "outputs": [
    {
     "data": {
      "text/html": [
       "<div>\n",
       "<style scoped>\n",
       "    .dataframe tbody tr th:only-of-type {\n",
       "        vertical-align: middle;\n",
       "    }\n",
       "\n",
       "    .dataframe tbody tr th {\n",
       "        vertical-align: top;\n",
       "    }\n",
       "\n",
       "    .dataframe thead th {\n",
       "        text-align: right;\n",
       "    }\n",
       "</style>\n",
       "<table border=\"1\" class=\"dataframe\">\n",
       "  <thead>\n",
       "    <tr style=\"text-align: right;\">\n",
       "      <th></th>\n",
       "      <th>index</th>\n",
       "      <th>mode_of_shipment</th>\n",
       "    </tr>\n",
       "  </thead>\n",
       "  <tbody>\n",
       "    <tr>\n",
       "      <th>0</th>\n",
       "      <td>Ship</td>\n",
       "      <td>7462</td>\n",
       "    </tr>\n",
       "    <tr>\n",
       "      <th>1</th>\n",
       "      <td>Flight</td>\n",
       "      <td>1777</td>\n",
       "    </tr>\n",
       "    <tr>\n",
       "      <th>2</th>\n",
       "      <td>Road</td>\n",
       "      <td>1760</td>\n",
       "    </tr>\n",
       "  </tbody>\n",
       "</table>\n",
       "</div>"
      ],
      "text/plain": [
       "    index  mode_of_shipment\n",
       "0    Ship              7462\n",
       "1  Flight              1777\n",
       "2    Road              1760"
      ]
     },
     "execution_count": 191,
     "metadata": {},
     "output_type": "execute_result"
    }
   ],
   "source": [
    "# value_count for mode_of_shipment\n",
    "shipment = value_count_columns('mode_of_shipment')\n",
    "shipment"
   ]
  },
  {
   "cell_type": "code",
   "execution_count": 192,
   "id": "d65aecfd",
   "metadata": {},
   "outputs": [
    {
     "data": {
      "image/png": "[encoded data removed]",
      "text/plain": [
       "<Figure size 1300x400 with 1 Axes>"
      ]
     },
     "metadata": {},
     "output_type": "display_data"
    }
   ],
   "source": [
    "# Pie chart showing the value count for each shipment method\n",
    "labels = 'Ship', 'Flight', 'Road'\n",
    "frequency = [7462, 1777, 1760]\n",
    "fig1, ax1 = plt.subplots()\n",
    "explode = (0, 0, 0)  \n",
    "colors = ['#ff9999','#66b3ff', '#C875C4']\n",
    "ax1.pie(frequency, explode=explode, labels=labels, autopct='%1.1f%%',\n",
    "        shadow=False, startangle=90, colors = colors)\n",
    "ax1.axis('equal')  # Equal aspect ratio ensures that pie is drawn as a circle.\n",
    "plt.title('Mode of shipment')\n",
    "plt.savefig('Mode of shipment.png', facecolor='w', dpi=300)\n",
    "plt.show()\n",
    "\n",
    "# Findings\n",
    "# Shipping is the most common and frequent mode of shipment"
   ]
  },
  {
   "cell_type": "code",
   "execution_count": 193,
   "id": "f6a51907",
   "metadata": {},
   "outputs": [
    {
     "data": {
      "text/html": [
       "<div>\n",
       "<style scoped>\n",
       "    .dataframe tbody tr th:only-of-type {\n",
       "        vertical-align: middle;\n",
       "    }\n",
       "\n",
       "    .dataframe tbody tr th {\n",
       "        vertical-align: top;\n",
       "    }\n",
       "\n",
       "    .dataframe thead th {\n",
       "        text-align: right;\n",
       "    }\n",
       "</style>\n",
       "<table border=\"1\" class=\"dataframe\">\n",
       "  <thead>\n",
       "    <tr style=\"text-align: right;\">\n",
       "      <th></th>\n",
       "      <th>index</th>\n",
       "      <th>product_importance</th>\n",
       "    </tr>\n",
       "  </thead>\n",
       "  <tbody>\n",
       "    <tr>\n",
       "      <th>0</th>\n",
       "      <td>low</td>\n",
       "      <td>5297</td>\n",
       "    </tr>\n",
       "    <tr>\n",
       "      <th>1</th>\n",
       "      <td>medium</td>\n",
       "      <td>4754</td>\n",
       "    </tr>\n",
       "    <tr>\n",
       "      <th>2</th>\n",
       "      <td>high</td>\n",
       "      <td>948</td>\n",
       "    </tr>\n",
       "  </tbody>\n",
       "</table>\n",
       "</div>"
      ],
      "text/plain": [
       "    index  product_importance\n",
       "0     low                5297\n",
       "1  medium                4754\n",
       "2    high                 948"
      ]
     },
     "execution_count": 193,
     "metadata": {},
     "output_type": "execute_result"
    }
   ],
   "source": [
    "# value_count for product_importance\n",
    "p_impt = value_count_columns('product_importance')\n",
    "p_impt"
   ]
  },
  {
   "cell_type": "code",
   "execution_count": 194,
   "id": "a130d730",
   "metadata": {},
   "outputs": [
    {
     "data": {
      "image/png": "[encoded data removed]",
      "text/plain": [
       "<Figure size 1300x400 with 1 Axes>"
      ]
     },
     "metadata": {},
     "output_type": "display_data"
    }
   ],
   "source": [
    "# Pie chart showing the value count for each product_importance\n",
    "labels = 'low', 'medium', 'high'\n",
    "frequency = [5297, 4754, 948]\n",
    "fig1, ax1 = plt.subplots()\n",
    "explode = (0, 0, 0)\n",
    "colors = ['#ff9999','#66b3ff', '#C875C4']\n",
    "ax1.pie(frequency, explode=explode, labels=labels, autopct='%1.1f%%',\n",
    "        shadow=False, startangle=90, colors = colors)\n",
    "ax1.axis('equal')  # Equal aspect ratio ensures that pie is drawn as a circle.\n",
    "plt.title('Product Importance')\n",
    "plt.savefig('Product Importance', facecolor='w', dpi=300)\n",
    "plt.show()\n",
    "\n",
    "# Findings\n",
    "# Product importance has the least for high ratings"
   ]
  },
  {
   "cell_type": "code",
   "execution_count": 195,
   "id": "fb607398",
   "metadata": {},
   "outputs": [
    {
     "data": {
      "text/html": [
       "<div>\n",
       "<style scoped>\n",
       "    .dataframe tbody tr th:only-of-type {\n",
       "        vertical-align: middle;\n",
       "    }\n",
       "\n",
       "    .dataframe tbody tr th {\n",
       "        vertical-align: top;\n",
       "    }\n",
       "\n",
       "    .dataframe thead th {\n",
       "        text-align: right;\n",
       "    }\n",
       "</style>\n",
       "<table border=\"1\" class=\"dataframe\">\n",
       "  <thead>\n",
       "    <tr style=\"text-align: right;\">\n",
       "      <th></th>\n",
       "      <th>index</th>\n",
       "      <th>gender</th>\n",
       "    </tr>\n",
       "  </thead>\n",
       "  <tbody>\n",
       "    <tr>\n",
       "      <th>0</th>\n",
       "      <td>F</td>\n",
       "      <td>5545</td>\n",
       "    </tr>\n",
       "    <tr>\n",
       "      <th>1</th>\n",
       "      <td>M</td>\n",
       "      <td>5454</td>\n",
       "    </tr>\n",
       "  </tbody>\n",
       "</table>\n",
       "</div>"
      ],
      "text/plain": [
       "  index  gender\n",
       "0     F    5545\n",
       "1     M    5454"
      ]
     },
     "execution_count": 195,
     "metadata": {},
     "output_type": "execute_result"
    }
   ],
   "source": [
    "# value_count for gender\n",
    "gender_count = value_count_columns('gender')\n",
    "gender_count.sort_values(by=['index'], axis = 0)"
   ]
  },
  {
   "cell_type": "code",
   "execution_count": 196,
   "id": "cae8807a",
   "metadata": {},
   "outputs": [
    {
     "data": {
      "text/html": [
       "<div>\n",
       "<style scoped>\n",
       "    .dataframe tbody tr th:only-of-type {\n",
       "        vertical-align: middle;\n",
       "    }\n",
       "\n",
       "    .dataframe tbody tr th {\n",
       "        vertical-align: top;\n",
       "    }\n",
       "\n",
       "    .dataframe thead th {\n",
       "        text-align: right;\n",
       "    }\n",
       "</style>\n",
       "<table border=\"1\" class=\"dataframe\">\n",
       "  <thead>\n",
       "    <tr style=\"text-align: right;\">\n",
       "      <th></th>\n",
       "      <th>index</th>\n",
       "      <th>gender</th>\n",
       "    </tr>\n",
       "  </thead>\n",
       "  <tbody>\n",
       "    <tr>\n",
       "      <th>0</th>\n",
       "      <td>F</td>\n",
       "      <td>5545</td>\n",
       "    </tr>\n",
       "    <tr>\n",
       "      <th>1</th>\n",
       "      <td>M</td>\n",
       "      <td>5454</td>\n",
       "    </tr>\n",
       "  </tbody>\n",
       "</table>\n",
       "</div>"
      ],
      "text/plain": [
       "  index  gender\n",
       "0     F    5545\n",
       "1     M    5454"
      ]
     },
     "execution_count": 196,
     "metadata": {},
     "output_type": "execute_result"
    }
   ],
   "source": [
    "# value_count for gender\n",
    "gender_count = value_count_columns('gender')\n",
    "gender_count.sort_values(by=['index'], axis = 0)"
   ]
  },
  {
   "cell_type": "code",
   "execution_count": 197,
   "id": "968bd845",
   "metadata": {},
   "outputs": [
    {
     "data": {
      "image/png": "[encoded data removed]",
      "text/plain": [
       "<Figure size 1300x400 with 1 Axes>"
      ]
     },
     "metadata": {},
     "output_type": "display_data"
    }
   ],
   "source": [
    "# Pie chart showing the value count for each gender\n",
    "labels = 'Female', 'Male'\n",
    "frequency = [5545, 5454]\n",
    "fig1, ax1 = plt.subplots()\n",
    "explode = (0, 0)\n",
    "colors = ['#ff9999','#66b3ff']\n",
    "ax1.pie(frequency, explode=explode, labels=labels, autopct='%1.1f%%',\n",
    "        shadow=False, startangle=90, colors=colors)\n",
    "ax1.axis('equal')  # Equal aspect ratio ensures that pie is drawn as a circle.\n",
    "plt.title('Gender')\n",
    "plt.savefig('Gender', facecolor='w', dpi=300)\n",
    "plt.show()\n",
    "\n",
    "# Findings\n",
    "# Reflects an almost evenly distributed for gender column with male slighly lesser"
   ]
  },
  {
   "cell_type": "code",
   "execution_count": 198,
   "id": "7e6e3e82",
   "metadata": {},
   "outputs": [
    {
     "data": {
      "text/html": [
       "<div>\n",
       "<style scoped>\n",
       "    .dataframe tbody tr th:only-of-type {\n",
       "        vertical-align: middle;\n",
       "    }\n",
       "\n",
       "    .dataframe tbody tr th {\n",
       "        vertical-align: top;\n",
       "    }\n",
       "\n",
       "    .dataframe thead th {\n",
       "        text-align: right;\n",
       "    }\n",
       "</style>\n",
       "<table border=\"1\" class=\"dataframe\">\n",
       "  <thead>\n",
       "    <tr style=\"text-align: right;\">\n",
       "      <th></th>\n",
       "      <th>index</th>\n",
       "      <th>reached_on_time_y.n</th>\n",
       "    </tr>\n",
       "  </thead>\n",
       "  <tbody>\n",
       "    <tr>\n",
       "      <th>1</th>\n",
       "      <td>0</td>\n",
       "      <td>4436</td>\n",
       "    </tr>\n",
       "    <tr>\n",
       "      <th>0</th>\n",
       "      <td>1</td>\n",
       "      <td>6563</td>\n",
       "    </tr>\n",
       "  </tbody>\n",
       "</table>\n",
       "</div>"
      ],
      "text/plain": [
       "   index  reached_on_time_y.n\n",
       "1      0                 4436\n",
       "0      1                 6563"
      ]
     },
     "execution_count": 198,
     "metadata": {},
     "output_type": "execute_result"
    }
   ],
   "source": [
    "# value_count for gender reached_on_time_y.n \n",
    "# 1 = No on time\n",
    "# 2 = On time\n",
    "on_time_count = value_count_columns('reached_on_time_y.n')\n",
    "on_time_count.sort_values(by=['index'], axis = 0)"
   ]
  },
  {
   "cell_type": "code",
   "execution_count": 199,
   "id": "61ba1ea0",
   "metadata": {},
   "outputs": [
    {
     "data": {
      "image/png": "[encoded data removed]",
      "text/plain": [
       "<Figure size 1300x400 with 1 Axes>"
      ]
     },
     "metadata": {},
     "output_type": "display_data"
    }
   ],
   "source": [
    "# Pie chart showing the value count on time or not on time delivery \n",
    "labels = 'Not on time', 'On time'\n",
    "frequency = [6563, 4436]\n",
    "fig1, ax1 = plt.subplots()\n",
    "explode = (0, 0) \n",
    "colors = ['#ff9999','#66b3ff']\n",
    "ax1.pie(frequency, explode=explode, labels=labels, autopct='%1.1f%%',\n",
    "        shadow=False, startangle=90, colors=colors)\n",
    "ax1.axis('equal')  # Equal aspect ratio ensures that pie is drawn as a circle.\n",
    "plt.title('On time vs Not on time delivery')\n",
    "plt.savefig('On time vs Not on time delivery.png', facecolor='w', dpi=300)\n",
    "plt.show()\n",
    "\n",
    "#Findings\n",
    "# Findings that not on time has a higher % with 59.7 compared with on time"
   ]
  },
  {
   "cell_type": "code",
   "execution_count": 200,
   "id": "ace39439",
   "metadata": {},
   "outputs": [
    {
     "data": {
      "text/html": [
       "<div>\n",
       "<style scoped>\n",
       "    .dataframe tbody tr th:only-of-type {\n",
       "        vertical-align: middle;\n",
       "    }\n",
       "\n",
       "    .dataframe tbody tr th {\n",
       "        vertical-align: top;\n",
       "    }\n",
       "\n",
       "    .dataframe thead th {\n",
       "        text-align: right;\n",
       "    }\n",
       "</style>\n",
       "<table border=\"1\" class=\"dataframe\">\n",
       "  <thead>\n",
       "    <tr style=\"text-align: right;\">\n",
       "      <th></th>\n",
       "      <th>index</th>\n",
       "      <th>customer_care_calls</th>\n",
       "    </tr>\n",
       "  </thead>\n",
       "  <tbody>\n",
       "    <tr>\n",
       "      <th>4</th>\n",
       "      <td>2</td>\n",
       "      <td>636</td>\n",
       "    </tr>\n",
       "    <tr>\n",
       "      <th>1</th>\n",
       "      <td>3</td>\n",
       "      <td>3211</td>\n",
       "    </tr>\n",
       "    <tr>\n",
       "      <th>0</th>\n",
       "      <td>4</td>\n",
       "      <td>3569</td>\n",
       "    </tr>\n",
       "    <tr>\n",
       "      <th>2</th>\n",
       "      <td>5</td>\n",
       "      <td>2325</td>\n",
       "    </tr>\n",
       "    <tr>\n",
       "      <th>3</th>\n",
       "      <td>6</td>\n",
       "      <td>1012</td>\n",
       "    </tr>\n",
       "    <tr>\n",
       "      <th>5</th>\n",
       "      <td>7</td>\n",
       "      <td>246</td>\n",
       "    </tr>\n",
       "  </tbody>\n",
       "</table>\n",
       "</div>"
      ],
      "text/plain": [
       "   index  customer_care_calls\n",
       "4      2                  636\n",
       "1      3                 3211\n",
       "0      4                 3569\n",
       "2      5                 2325\n",
       "3      6                 1012\n",
       "5      7                  246"
      ]
     },
     "execution_count": 200,
     "metadata": {},
     "output_type": "execute_result"
    }
   ],
   "source": [
    "# value_count for gender reached_customer_care_calls\n",
    "cust_care_call_count = value_count_columns('customer_care_calls')\n",
    "cust_care_call_count.sort_values(by=['index'], axis = 0)"
   ]
  },
  {
   "cell_type": "code",
   "execution_count": 201,
   "id": "0616145d",
   "metadata": {},
   "outputs": [
    {
     "data": {
      "image/png": "[encoded data removed]",
      "text/plain": [
       "<Figure size 1300x400 with 1 Axes>"
      ]
     },
     "metadata": {},
     "output_type": "display_data"
    }
   ],
   "source": [
    "# Pie chart showing the value count on customer care calls\n",
    "labels = '2', '3', '4', '5', '6', '7'\n",
    "frequency = [636, 3211, 3569,2325, 1012, 246]\n",
    "fig1, ax1 = plt.subplots()\n",
    "explode = (0, 0, 0, 0 , 0, 0)  \n",
    "colors = ['#ff9999','#66b3ff','#99ff99','#ffcc99', '#C875C4' ,'#04D8B2']\n",
    "ax1.pie(frequency, explode=explode, labels=labels, autopct='%1.1f%%',\n",
    "        shadow=False, startangle=90 , colors=colors)\n",
    "ax1.axis('equal')  # Equal aspect ratio ensures that pie is drawn as a circle.\n",
    "plt.title('Number of customer care calls')\n",
    "plt.savefig('Number of customer care calls.png', facecolor='w', dpi=300)\n",
    "plt.show()\n",
    "\n",
    "#Findings\n",
    "# Customer calls has been made most often with 4 calls at 32%"
   ]
  },
  {
   "cell_type": "code",
   "execution_count": 202,
   "id": "c9f43ebd",
   "metadata": {},
   "outputs": [
    {
     "data": {
      "text/plain": [
       "id\n",
       "3366       max cost\n",
       "6061    normal cost\n",
       "2097    normal cost\n",
       "3649       max cost\n",
       "4648       max cost\n",
       "Name: cost_of_the_product, dtype: category\n",
       "Categories (3, object): ['min cost' < 'normal cost' < 'max cost']"
      ]
     },
     "execution_count": 202,
     "metadata": {},
     "output_type": "execute_result"
    }
   ],
   "source": [
    "#Cut cost of product and apply to diff bin\n",
    "cost_prod__level = pd.cut(data['cost_of_the_product'], bins = 3, labels = [\"min cost\", \"normal cost\", \"max cost\"])\n",
    "cost_prod__level.sample(5) "
   ]
  },
  {
   "cell_type": "code",
   "execution_count": 203,
   "id": "82ae87c9",
   "metadata": {},
   "outputs": [
    {
     "data": {
      "text/plain": [
       "normal cost    4581\n",
       "max cost       3803\n",
       "min cost       2615\n",
       "Name: cost_of_the_product, dtype: int64"
      ]
     },
     "execution_count": 203,
     "metadata": {},
     "output_type": "execute_result"
    }
   ],
   "source": [
    "# value count cost of products\n",
    "cost_prod__levelcount = cost_prod__level.value_counts()\n",
    "cost_prod__levelcount"
   ]
  },
  {
   "cell_type": "code",
   "execution_count": 204,
   "id": "97d66e59",
   "metadata": {},
   "outputs": [
    {
     "data": {
      "image/png": "[encoded data removed]",
      "text/plain": [
       "<Figure size 1300x400 with 1 Axes>"
      ]
     },
     "metadata": {},
     "output_type": "display_data"
    }
   ],
   "source": [
    "# Pie chart showing the range of  on cost_of_the_product\n",
    "labels = 'min cost', 'normal cost', 'high cost'\n",
    "frequency = [2615, 4581, 3803]\n",
    "fig1, ax1 = plt.subplots()\n",
    "explode = (0, 0, 0)  \n",
    "colors = ['#ff9999','#66b3ff','#99ff99']\n",
    "ax1.pie(frequency, explode=explode, labels=labels, autopct='%1.1f%%',\n",
    "        shadow=False, startangle=90, colors=colors)\n",
    "ax1.axis('equal')  # Equal aspect ratio ensures that pie is drawn as a circle.\n",
    "plt.title('Cost of products')\n",
    "plt.savefig('cost_of_the_products.png', facecolor='w', dpi=300)\n",
    "plt.show()\n",
    "\n",
    "# Findings\n",
    "# This has been placed with a bin of 3 from the range of of the cost of products with normal costing at the biggest range at 41%"
   ]
  },
  {
   "cell_type": "code",
   "execution_count": 205,
   "id": "920316f1",
   "metadata": {},
   "outputs": [
    {
     "data": {
      "text/plain": [
       "array([2, 5, 3, 1, 4], dtype=int64)"
      ]
     },
     "execution_count": 205,
     "metadata": {},
     "output_type": "execute_result"
    }
   ],
   "source": [
    "data['customer_rating'].unique()"
   ]
  },
  {
   "cell_type": "code",
   "execution_count": 206,
   "id": "8a628fdd",
   "metadata": {},
   "outputs": [
    {
     "data": {
      "text/html": [
       "<div>\n",
       "<style scoped>\n",
       "    .dataframe tbody tr th:only-of-type {\n",
       "        vertical-align: middle;\n",
       "    }\n",
       "\n",
       "    .dataframe tbody tr th {\n",
       "        vertical-align: top;\n",
       "    }\n",
       "\n",
       "    .dataframe thead th {\n",
       "        text-align: right;\n",
       "    }\n",
       "</style>\n",
       "<table border=\"1\" class=\"dataframe\">\n",
       "  <thead>\n",
       "    <tr style=\"text-align: right;\">\n",
       "      <th></th>\n",
       "      <th>index</th>\n",
       "      <th>customer_rating</th>\n",
       "    </tr>\n",
       "  </thead>\n",
       "  <tbody>\n",
       "    <tr>\n",
       "      <th>1</th>\n",
       "      <td>1</td>\n",
       "      <td>2235</td>\n",
       "    </tr>\n",
       "    <tr>\n",
       "      <th>4</th>\n",
       "      <td>2</td>\n",
       "      <td>2165</td>\n",
       "    </tr>\n",
       "    <tr>\n",
       "      <th>0</th>\n",
       "      <td>3</td>\n",
       "      <td>2239</td>\n",
       "    </tr>\n",
       "    <tr>\n",
       "      <th>2</th>\n",
       "      <td>4</td>\n",
       "      <td>2189</td>\n",
       "    </tr>\n",
       "    <tr>\n",
       "      <th>3</th>\n",
       "      <td>5</td>\n",
       "      <td>2171</td>\n",
       "    </tr>\n",
       "  </tbody>\n",
       "</table>\n",
       "</div>"
      ],
      "text/plain": [
       "   index  customer_rating\n",
       "1      1             2235\n",
       "4      2             2165\n",
       "0      3             2239\n",
       "2      4             2189\n",
       "3      5             2171"
      ]
     },
     "execution_count": 206,
     "metadata": {},
     "output_type": "execute_result"
    }
   ],
   "source": [
    "# value_count for customer rating\n",
    "cust_rate_count = value_count_columns('customer_rating')\n",
    "cust_rate_count.sort_values(by=['index'], axis = 0)"
   ]
  },
  {
   "cell_type": "code",
   "execution_count": 207,
   "id": "649868df",
   "metadata": {},
   "outputs": [
    {
     "data": {
      "image/png": "[encoded data removed]",
      "text/plain": [
       "<Figure size 1300x400 with 1 Axes>"
      ]
     },
     "metadata": {},
     "output_type": "display_data"
    }
   ],
   "source": [
    "# Pie chart showing customer rating\n",
    "labels = '1', '2', '3', '4', '5'\n",
    "frequency = [2235, 2165, 2239,2189,2171]\n",
    "fig1, ax1 = plt.subplots()\n",
    "explode = (0, 0, 0, 0, 0) \n",
    "colors = ['#ff9999','#66b3ff','#99ff99','#ffcc99', '#C875C4']\n",
    "ax1.pie(frequency, explode=explode, labels=labels, autopct='%1.1f%%',\n",
    "        shadow=False, startangle=90, colors=colors)\n",
    "ax1.axis('equal')  # Equal aspect ratio ensures that pie is drawn as a circle.\n",
    "plt.title('Customer rating')\n",
    "plt.savefig('customer ratings.png', facecolor='w', dpi=300)\n",
    "plt.show()\n",
    "\n",
    "# Findings\n",
    "# Customer rating is evenly spread out with 1 being the worst and 5 being the best"
   ]
  },
  {
   "cell_type": "code",
   "execution_count": 208,
   "id": "4d74ef22",
   "metadata": {},
   "outputs": [
    {
     "data": {
      "text/html": [
       "<div>\n",
       "<style scoped>\n",
       "    .dataframe tbody tr th:only-of-type {\n",
       "        vertical-align: middle;\n",
       "    }\n",
       "\n",
       "    .dataframe tbody tr th {\n",
       "        vertical-align: top;\n",
       "    }\n",
       "\n",
       "    .dataframe thead th {\n",
       "        text-align: right;\n",
       "    }\n",
       "</style>\n",
       "<table border=\"1\" class=\"dataframe\">\n",
       "  <thead>\n",
       "    <tr style=\"text-align: right;\">\n",
       "      <th></th>\n",
       "      <th>index</th>\n",
       "      <th>prior_purchases</th>\n",
       "    </tr>\n",
       "  </thead>\n",
       "  <tbody>\n",
       "    <tr>\n",
       "      <th>1</th>\n",
       "      <td>2</td>\n",
       "      <td>2599</td>\n",
       "    </tr>\n",
       "    <tr>\n",
       "      <th>0</th>\n",
       "      <td>3</td>\n",
       "      <td>3955</td>\n",
       "    </tr>\n",
       "    <tr>\n",
       "      <th>2</th>\n",
       "      <td>4</td>\n",
       "      <td>2155</td>\n",
       "    </tr>\n",
       "    <tr>\n",
       "      <th>3</th>\n",
       "      <td>5</td>\n",
       "      <td>1287</td>\n",
       "    </tr>\n",
       "    <tr>\n",
       "      <th>4</th>\n",
       "      <td>6</td>\n",
       "      <td>561</td>\n",
       "    </tr>\n",
       "    <tr>\n",
       "      <th>6</th>\n",
       "      <td>7</td>\n",
       "      <td>136</td>\n",
       "    </tr>\n",
       "    <tr>\n",
       "      <th>7</th>\n",
       "      <td>8</td>\n",
       "      <td>128</td>\n",
       "    </tr>\n",
       "    <tr>\n",
       "      <th>5</th>\n",
       "      <td>10</td>\n",
       "      <td>178</td>\n",
       "    </tr>\n",
       "  </tbody>\n",
       "</table>\n",
       "</div>"
      ],
      "text/plain": [
       "   index  prior_purchases\n",
       "1      2             2599\n",
       "0      3             3955\n",
       "2      4             2155\n",
       "3      5             1287\n",
       "4      6              561\n",
       "6      7              136\n",
       "7      8              128\n",
       "5     10              178"
      ]
     },
     "execution_count": 208,
     "metadata": {},
     "output_type": "execute_result"
    }
   ],
   "source": [
    "# value_count for customer rating\n",
    "prior_p_count = value_count_columns('prior_purchases')\n",
    "prior_p_count.sort_values(by=['index'], axis = 0)"
   ]
  },
  {
   "cell_type": "code",
   "execution_count": 209,
   "id": "b707c353",
   "metadata": {},
   "outputs": [
    {
     "data": {
      "image/png": "[encoded data removed]",
      "text/plain": [
       "<Figure size 1300x400 with 1 Axes>"
      ]
     },
     "metadata": {},
     "output_type": "display_data"
    }
   ],
   "source": [
    "# Pie chart showing the range of  on prior purchases\n",
    "labels = '2', '3', '4', '5', '6', '7', '8', '10'\n",
    "frequency = [2599, 3955, 2155, 1287, 561, 136, 128, 178]\n",
    "fig1, ax1 = plt.subplots()\n",
    "explode = (0, 0, 0, 0, 0, 0, 0, 0)  \n",
    "colors = ['#ff9999','#66b3ff','#99ff99','#ffcc99', '#C875C4', '#069AF3', '#F97306', '#DC143C']\n",
    "ax1.pie(frequency, explode=explode, labels=labels, autopct='%1.1f%%',\n",
    "        shadow=False, startangle=90, colors=colors)\n",
    "ax1.axis('equal')  # Equal aspect ratio ensures that pie is drawn as a circle.\n",
    "plt.title('No. on prior purchases')\n",
    "plt.savefig('No on prior purchases', facecolor='w', dpi=300)\n",
    "plt.show()\n",
    "\n",
    "# Findings\n",
    "# 3 is the highest number of purchases from repeated customers at 36%"
   ]
  },
  {
   "cell_type": "code",
   "execution_count": 210,
   "id": "cd3a7fe3",
   "metadata": {},
   "outputs": [
    {
     "data": {
      "text/plain": [
       "array([44, 59, 48, 10, 46, 12,  3, 11, 29, 32,  1, 43, 45,  6, 36, 18, 38,\n",
       "       51,  2, 28, 24, 31, 61, 22,  4, 62, 16, 56, 15,  9, 40, 37, 41, 17,\n",
       "       64, 52, 49, 39, 14, 33, 21, 13, 23, 26, 57,  7, 35,  8,  5, 53, 55,\n",
       "       47, 65, 25, 50, 60, 20, 19, 63, 58, 34, 54, 27, 42, 30],\n",
       "      dtype=int64)"
      ]
     },
     "execution_count": 210,
     "metadata": {},
     "output_type": "execute_result"
    }
   ],
   "source": [
    "# discount offer unique items\n",
    "data['discount_offered'].unique()"
   ]
  },
  {
   "cell_type": "code",
   "execution_count": 211,
   "id": "c9128c14",
   "metadata": {},
   "outputs": [
    {
     "data": {
      "text/plain": [
       "id\n",
       "3862    min discount\n",
       "9243    min discount\n",
       "6296    min discount\n",
       "9803    min discount\n",
       "1798    min discount\n",
       "Name: discount_offered, dtype: category\n",
       "Categories (3, object): ['min discount' < 'normal discount' < 'max discount']"
      ]
     },
     "execution_count": 211,
     "metadata": {},
     "output_type": "execute_result"
    }
   ],
   "source": [
    "#Cut discount_offered and apply to diff bin\n",
    "dis_offer_level = pd.cut(data['discount_offered'], bins = 3, labels = [\"min discount\", \"normal discount\", \"max discount\"])\n",
    "dis_offer_level.sample(5) "
   ]
  },
  {
   "cell_type": "code",
   "execution_count": 212,
   "id": "3e81258c",
   "metadata": {},
   "outputs": [
    {
     "data": {
      "text/plain": [
       "min discount       8946\n",
       "max discount       1102\n",
       "normal discount     951\n",
       "Name: discount_offered, dtype: int64"
      ]
     },
     "execution_count": 212,
     "metadata": {},
     "output_type": "execute_result"
    }
   ],
   "source": [
    "# value count discount offered\n",
    "dis_offer__levelcount = dis_offer_level.value_counts()\n",
    "dis_offer__levelcount"
   ]
  },
  {
   "cell_type": "code",
   "execution_count": 213,
   "id": "7c931099",
   "metadata": {},
   "outputs": [
    {
     "data": {
      "image/png": "[encoded data removed]",
      "text/plain": [
       "<Figure size 1300x400 with 1 Axes>"
      ]
     },
     "metadata": {},
     "output_type": "display_data"
    }
   ],
   "source": [
    "# Pie chart showing the range of discount offered\n",
    "labels = 'min discount', 'normal discount', 'max discount'\n",
    "frequency = [8946, 951, 1102]\n",
    "fig1, ax1 = plt.subplots()\n",
    "explode = (0, 0, 0)  \n",
    "colors = ['#ff9999','#66b3ff','#99ff99']\n",
    "ax1.pie(frequency, explode=explode, labels=labels, autopct='%1.1f%%',\n",
    "        shadow=False, startangle=90, colors=colors)\n",
    "ax1.axis('equal')  # Equal aspect ratio ensures that pie is drawn as a circle.\n",
    "plt.title('Discount Offered')\n",
    "plt.savefig('Discounts offered', facecolor='w', dpi=300)\n",
    "plt.show()\n",
    "\n",
    "# Findings\n",
    "# majority has been given to the least discount given with 81% "
   ]
  },
  {
   "cell_type": "code",
   "execution_count": 214,
   "id": "55773069",
   "metadata": {},
   "outputs": [
    {
     "data": {
      "text/plain": [
       "array([1233, 3088, 3374, ..., 1086, 1649, 1098], dtype=int64)"
      ]
     },
     "execution_count": 214,
     "metadata": {},
     "output_type": "execute_result"
    }
   ],
   "source": [
    "# weight_in_gms offer unique items\n",
    "data['weight_in_gms'].unique()"
   ]
  },
  {
   "cell_type": "code",
   "execution_count": 215,
   "id": "0f3ac2aa",
   "metadata": {},
   "outputs": [
    {
     "data": {
      "text/plain": [
       "id\n",
       "4469    normal\n",
       "5905    normal\n",
       "3545    normal\n",
       "3024     light\n",
       "7698    normal\n",
       "Name: weight_in_gms, dtype: category\n",
       "Categories (3, object): ['light' < 'normal' < 'heavy']"
      ]
     },
     "execution_count": 215,
     "metadata": {},
     "output_type": "execute_result"
    }
   ],
   "source": [
    "#Cut weight_in_gms and apply to diff bin\n",
    "wt_level = pd.cut(data['weight_in_gms'], bins = 3, labels = [\"light\", \"normal\", \"heavy\"])\n",
    "wt_level.sample(5) "
   ]
  },
  {
   "cell_type": "code",
   "execution_count": 216,
   "id": "9a78ade3",
   "metadata": {},
   "outputs": [
    {
     "data": {
      "text/plain": [
       "normal    5339\n",
       "light     4377\n",
       "heavy     1283\n",
       "Name: weight_in_gms, dtype: int64"
      ]
     },
     "execution_count": 216,
     "metadata": {},
     "output_type": "execute_result"
    }
   ],
   "source": [
    "# value count weight\n",
    "wt_levelcount = wt_level.value_counts()\n",
    "wt_levelcount"
   ]
  },
  {
   "cell_type": "code",
   "execution_count": 217,
   "id": "f434e465",
   "metadata": {},
   "outputs": [
    {
     "data": {
      "image/png": "[encoded data removed]",
      "text/plain": [
       "<Figure size 1300x400 with 1 Axes>"
      ]
     },
     "metadata": {},
     "output_type": "display_data"
    }
   ],
   "source": [
    "# Pie chart showing the range of  on weight\n",
    "labels = 'light', 'normal', 'heavy'\n",
    "frequency = [4377, 5339, 1283]\n",
    "fig1, ax1 = plt.subplots()\n",
    "explode = (0, 0, 0)  \n",
    "colors = ['#ff9999','#66b3ff','#99ff99']\n",
    "ax1.pie(frequency, explode=explode, labels=labels, autopct='%1.1f%%',\n",
    "        shadow=False, startangle=90, colors=colors)\n",
    "ax1.axis('equal')  # Equal aspect ratio ensures that pie is drawn as a circle.\n",
    "plt.title('Product weight in grams')\n",
    "plt.savefig('Product weight in grams', facecolor='w', dpi=300)\n",
    "plt.show()\n",
    "\n",
    "# Findings\n",
    "# Weight in gms has been bin with 3 and labelled with light, normal & heavy.\n",
    "# Heavy product is with the lowest at 11%"
   ]
  },
  {
   "cell_type": "markdown",
   "id": "e33576c2",
   "metadata": {},
   "source": [
    "### Comparing Variables"
   ]
  },
  {
   "cell_type": "code",
   "execution_count": 218,
   "id": "8549d667",
   "metadata": {},
   "outputs": [
    {
     "data": {
      "text/plain": [
       "Index(['warehouse_block', 'mode_of_shipment', 'customer_care_calls',\n",
       "       'customer_rating', 'cost_of_the_product', 'prior_purchases',\n",
       "       'product_importance', 'gender', 'discount_offered', 'weight_in_gms',\n",
       "       'reached_on_time_y.n', 'gender_r', 'product_importance_r',\n",
       "       'reached_on_time_y.n_r'],\n",
       "      dtype='object')"
      ]
     },
     "execution_count": 218,
     "metadata": {},
     "output_type": "execute_result"
    }
   ],
   "source": [
    "# Review data columns\n",
    "data.columns"
   ]
  },
  {
   "cell_type": "code",
   "execution_count": 219,
   "id": "ddde065a",
   "metadata": {},
   "outputs": [
    {
     "data": {
      "image/png": "[encoded data removed]",
      "text/plain": [
       "<Figure size 1300x400 with 1 Axes>"
      ]
     },
     "metadata": {},
     "output_type": "display_data"
    }
   ],
   "source": [
    "# Find the impact on Warehouse vs Weight\n",
    "sns.boxplot(x = 'warehouse_block', y = 'weight_in_gms', data = data, order=['A', 'B', 'C', 'D', 'F'],  palette=(\"Blues_d\"))\n",
    "plt.savefig('Box plot reach on time vs weight', facecolor='w', dpi=300)\n",
    "plt.show()\n",
    "# Findings\n",
    "# Block A & C have lesser in terms of weight."
   ]
  },
  {
   "cell_type": "code",
   "execution_count": 220,
   "id": "a4ce755d",
   "metadata": {},
   "outputs": [
    {
     "data": {
      "image/png": "[encoded data removed]",
      "text/plain": [
       "<Figure size 1300x400 with 1 Axes>"
      ]
     },
     "metadata": {},
     "output_type": "display_data"
    }
   ],
   "source": [
    "# Find the impact on reach on time vs weight in gms\n",
    "sns.boxplot(x = 'reached_on_time_y.n', y = 'weight_in_gms', data = data, palette=(\"Blues_d\"))\n",
    "plt.savefig('Box plot reach on time vs weight', facecolor='w', dpi=300)\n",
    "plt.show()\n",
    "# Findings\n",
    "#0 is reach on time, 1 is not reach on time\n",
    "#This shows that the higher in weight, the higher chance that it will not reach in time "
   ]
  },
  {
   "cell_type": "code",
   "execution_count": 221,
   "id": "8ca3d2f5",
   "metadata": {},
   "outputs": [
    {
     "data": {
      "image/png": "[encoded data removed]",
      "text/plain": [
       "<Figure size 1300x400 with 1 Axes>"
      ]
     },
     "metadata": {},
     "output_type": "display_data"
    }
   ],
   "source": [
    "#Find Customer care calls impact on discount offered\n",
    "sns.boxplot(x = 'customer_care_calls', y = 'discount_offered', data = data, hue = 'gender', palette=(\"Blues_d\"))\n",
    "plt.savefig('Box plot reach on time vs weight', facecolor='w', dpi=300)\n",
    "plt.show()\n",
    "\n",
    "# Findings\n",
    "# The lesser the calls the batter it is. So for 2 calls it has the highest point for discount offered\n",
    "# cannot make a decisison here\n",
    "# Mean no diff\n",
    "# Discount being offered highest for Male at 2 calls"
   ]
  },
  {
   "cell_type": "code",
   "execution_count": 222,
   "id": "289490d2",
   "metadata": {},
   "outputs": [
    {
     "data": {
      "image/png": "[encoded data removed]",
      "text/plain": [
       "<Figure size 1300x400 with 1 Axes>"
      ]
     },
     "metadata": {},
     "output_type": "display_data"
    }
   ],
   "source": [
    "#Find Gender vs customer rating \n",
    "sns.boxplot(x = 'gender_r', y = 'customer_rating', data = data , palette=(\"Blues_d\"))\n",
    "plt.savefig('Box plot reach on time vs weight', facecolor='w', dpi=300)\n",
    "plt.show()\n",
    "\n",
    "# Findings\n",
    "# This shows that there is no difference in impact for both gender under customer ratings"
   ]
  },
  {
   "cell_type": "markdown",
   "id": "35010356",
   "metadata": {},
   "source": [
    "### Class specific columns"
   ]
  },
  {
   "cell_type": "code",
   "execution_count": 223,
   "id": "d699f8b3",
   "metadata": {},
   "outputs": [
    {
     "data": {
      "text/plain": [
       "warehouse_block             5\n",
       "mode_of_shipment            3\n",
       "customer_care_calls         6\n",
       "customer_rating             5\n",
       "cost_of_the_product       215\n",
       "prior_purchases             8\n",
       "product_importance          3\n",
       "gender                      2\n",
       "discount_offered           65\n",
       "weight_in_gms            4034\n",
       "reached_on_time_y.n         2\n",
       "gender_r                    2\n",
       "product_importance_r        3\n",
       "reached_on_time_y.n_r       2\n",
       "dtype: int64"
      ]
     },
     "execution_count": 223,
     "metadata": {},
     "output_type": "execute_result"
    }
   ],
   "source": [
    "# Check which column has the many uniques values\n",
    "data.nunique()"
   ]
  },
  {
   "cell_type": "code",
   "execution_count": 224,
   "id": "c823e93e",
   "metadata": {},
   "outputs": [
    {
     "data": {
      "text/plain": [
       "0.25    169.0\n",
       "0.50    214.0\n",
       "0.75    251.0\n",
       "1.00    310.0\n",
       "Name: cost_of_the_product, dtype: float64"
      ]
     },
     "execution_count": 224,
     "metadata": {},
     "output_type": "execute_result"
    }
   ],
   "source": [
    "# Find quartiles in the cost_of_the_product\n",
    "data['cost_of_the_product'].quantile([0.25,0.5,0.75,1]).round(2)"
   ]
  },
  {
   "cell_type": "code",
   "execution_count": 225,
   "id": "3e2aca65",
   "metadata": {},
   "outputs": [
    {
     "data": {
      "text/plain": [
       "id\n",
       "1         Low Cost\n",
       "2         Avg Cost\n",
       "3         Low Cost\n",
       "4         Low Cost\n",
       "5         Low Cost\n",
       "           ...    \n",
       "10995    High Cost\n",
       "10996     Avg Cost\n",
       "10997     Avg Cost\n",
       "10998     Avg Cost\n",
       "10999     Low Cost\n",
       "Name: cost_class, Length: 10999, dtype: object"
      ]
     },
     "execution_count": 225,
     "metadata": {},
     "output_type": "execute_result"
    }
   ],
   "source": [
    "#create cost class\n",
    "def create_cost_class(x):\n",
    "    if x > 251:\n",
    "        cost_class = 'High Cost'\n",
    "    elif x > 214 and x <= 250:\n",
    "        cost_class = 'Avg Cost'\n",
    "    else:\n",
    "        cost_class = 'Low Cost'\n",
    "    return cost_class\n",
    "\n",
    "data['cost_class'] = data['cost_of_the_product'].apply(create_cost_class)\n",
    "data['cost_class'] "
   ]
  },
  {
   "cell_type": "code",
   "execution_count": 226,
   "id": "c46dfac3",
   "metadata": {},
   "outputs": [
    {
     "data": {
      "text/plain": [
       "0.25     4.0\n",
       "0.50     7.0\n",
       "0.75    10.0\n",
       "1.00    65.0\n",
       "Name: discount_offered, dtype: float64"
      ]
     },
     "execution_count": 226,
     "metadata": {},
     "output_type": "execute_result"
    }
   ],
   "source": [
    "# Find quartiles in the discount_offered\n",
    "data['discount_offered'].quantile([0.25,0.5,0.75,1]).round(2)"
   ]
  },
  {
   "cell_type": "code",
   "execution_count": 227,
   "id": "9b9d833c",
   "metadata": {},
   "outputs": [
    {
     "data": {
      "text/plain": [
       "id\n",
       "1        High Discount Offered\n",
       "2        High Discount Offered\n",
       "3        High Discount Offered\n",
       "4         Low discount Offered\n",
       "5        High Discount Offered\n",
       "                 ...          \n",
       "10995     Low discount Offered\n",
       "10996     Low discount Offered\n",
       "10997     Low discount Offered\n",
       "10998     Low discount Offered\n",
       "10999     Low discount Offered\n",
       "Name: discount_class, Length: 10999, dtype: object"
      ]
     },
     "execution_count": 227,
     "metadata": {},
     "output_type": "execute_result"
    }
   ],
   "source": [
    "#create cdiscount class\n",
    "def create_discount_class(x):\n",
    "    if x > 10:\n",
    "        discount_class = 'High Discount Offered'\n",
    "    elif x > 7 and x <= 9:\n",
    "        discount_class = 'Avg Discount Offered'\n",
    "    else:\n",
    "        discount_class = 'Low discount Offered'\n",
    "    return discount_class\n",
    "\n",
    "data['discount_class'] = data['discount_offered'].apply(create_discount_class)\n",
    "data['discount_class']  "
   ]
  },
  {
   "cell_type": "code",
   "execution_count": 228,
   "id": "f00901fe",
   "metadata": {},
   "outputs": [
    {
     "data": {
      "text/plain": [
       "0.25    1839.5\n",
       "0.50    4149.0\n",
       "0.75    5050.0\n",
       "1.00    7846.0\n",
       "Name: weight_in_gms, dtype: float64"
      ]
     },
     "execution_count": 228,
     "metadata": {},
     "output_type": "execute_result"
    }
   ],
   "source": [
    "# Find quartiles in the weight_in_gms\n",
    "data['weight_in_gms'].quantile([0.25,0.5,0.75,1]).round(2)"
   ]
  },
  {
   "cell_type": "code",
   "execution_count": 229,
   "id": "3d6e64ed",
   "metadata": {},
   "outputs": [
    {
     "data": {
      "text/plain": [
       "id\n",
       "1        Light Weight\n",
       "2        Light Weight\n",
       "3        Light Weight\n",
       "4        Light Weight\n",
       "5        Light Weight\n",
       "             ...     \n",
       "10995    Light Weight\n",
       "10996    Light Weight\n",
       "10997    Light Weight\n",
       "10998    Light Weight\n",
       "10999    Light Weight\n",
       "Name: wt_class, Length: 10999, dtype: object"
      ]
     },
     "execution_count": 229,
     "metadata": {},
     "output_type": "execute_result"
    }
   ],
   "source": [
    "#create cost class\n",
    "def create_wt_class(x):\n",
    "    if x > 5050:\n",
    "        wt_class = 'Heavy Weight'\n",
    "    elif x > 4149 and x <= 5049:\n",
    "        wt_class = 'Avg Weight'\n",
    "    else:\n",
    "        wt_class = 'Light Weight'\n",
    "    return wt_class\n",
    "\n",
    "data['wt_class'] = data['weight_in_gms'].apply(create_wt_class)\n",
    "data['wt_class']  "
   ]
  },
  {
   "cell_type": "markdown",
   "id": "f567a72e",
   "metadata": {},
   "source": [
    "### Relationship between Features and Customer rating 5"
   ]
  },
  {
   "cell_type": "code",
   "execution_count": 230,
   "id": "33f4c958",
   "metadata": {},
   "outputs": [
    {
     "data": {
      "text/plain": [
       "Index(['warehouse_block', 'mode_of_shipment', 'customer_care_calls',\n",
       "       'customer_rating', 'cost_of_the_product', 'prior_purchases',\n",
       "       'product_importance', 'gender', 'discount_offered', 'weight_in_gms',\n",
       "       'reached_on_time_y.n', 'gender_r', 'product_importance_r',\n",
       "       'reached_on_time_y.n_r', 'cost_class', 'discount_class', 'wt_class'],\n",
       "      dtype='object')"
      ]
     },
     "execution_count": 230,
     "metadata": {},
     "output_type": "execute_result"
    }
   ],
   "source": [
    "data.columns"
   ]
  },
  {
   "cell_type": "code",
   "execution_count": 231,
   "id": "a2afd2ee",
   "metadata": {},
   "outputs": [
    {
     "data": {
      "text/html": [
       "<div>\n",
       "<style scoped>\n",
       "    .dataframe tbody tr th:only-of-type {\n",
       "        vertical-align: middle;\n",
       "    }\n",
       "\n",
       "    .dataframe tbody tr th {\n",
       "        vertical-align: top;\n",
       "    }\n",
       "\n",
       "    .dataframe thead th {\n",
       "        text-align: right;\n",
       "    }\n",
       "</style>\n",
       "<table border=\"1\" class=\"dataframe\">\n",
       "  <thead>\n",
       "    <tr style=\"text-align: right;\">\n",
       "      <th></th>\n",
       "      <th>warehouse_block</th>\n",
       "      <th>mode_of_shipment</th>\n",
       "      <th>customer_care_calls</th>\n",
       "      <th>customer_rating</th>\n",
       "      <th>cost_of_the_product</th>\n",
       "      <th>prior_purchases</th>\n",
       "      <th>product_importance</th>\n",
       "      <th>gender</th>\n",
       "      <th>discount_offered</th>\n",
       "      <th>weight_in_gms</th>\n",
       "      <th>reached_on_time_y.n</th>\n",
       "      <th>gender_r</th>\n",
       "      <th>product_importance_r</th>\n",
       "      <th>reached_on_time_y.n_r</th>\n",
       "      <th>cost_class</th>\n",
       "      <th>discount_class</th>\n",
       "      <th>wt_class</th>\n",
       "    </tr>\n",
       "    <tr>\n",
       "      <th>id</th>\n",
       "      <th></th>\n",
       "      <th></th>\n",
       "      <th></th>\n",
       "      <th></th>\n",
       "      <th></th>\n",
       "      <th></th>\n",
       "      <th></th>\n",
       "      <th></th>\n",
       "      <th></th>\n",
       "      <th></th>\n",
       "      <th></th>\n",
       "      <th></th>\n",
       "      <th></th>\n",
       "      <th></th>\n",
       "      <th></th>\n",
       "      <th></th>\n",
       "      <th></th>\n",
       "    </tr>\n",
       "  </thead>\n",
       "  <tbody>\n",
       "    <tr>\n",
       "      <th>2</th>\n",
       "      <td>F</td>\n",
       "      <td>Flight</td>\n",
       "      <td>4</td>\n",
       "      <td>5</td>\n",
       "      <td>216</td>\n",
       "      <td>2</td>\n",
       "      <td>low</td>\n",
       "      <td>M</td>\n",
       "      <td>59</td>\n",
       "      <td>3088</td>\n",
       "      <td>1</td>\n",
       "      <td>0</td>\n",
       "      <td>1</td>\n",
       "      <td>no</td>\n",
       "      <td>Avg Cost</td>\n",
       "      <td>High Discount Offered</td>\n",
       "      <td>Light Weight</td>\n",
       "    </tr>\n",
       "  </tbody>\n",
       "</table>\n",
       "</div>"
      ],
      "text/plain": [
       "   warehouse_block mode_of_shipment  customer_care_calls  customer_rating  \\\n",
       "id                                                                          \n",
       "2                F           Flight                    4                5   \n",
       "\n",
       "    cost_of_the_product  prior_purchases product_importance gender  \\\n",
       "id                                                                   \n",
       "2                   216                2                low      M   \n",
       "\n",
       "    discount_offered  weight_in_gms  reached_on_time_y.n  gender_r  \\\n",
       "id                                                                   \n",
       "2                 59           3088                    1         0   \n",
       "\n",
       "    product_importance_r reached_on_time_y.n_r cost_class  \\\n",
       "id                                                          \n",
       "2                      1                    no   Avg Cost   \n",
       "\n",
       "           discount_class      wt_class  \n",
       "id                                       \n",
       "2   High Discount Offered  Light Weight  "
      ]
     },
     "execution_count": 231,
     "metadata": {},
     "output_type": "execute_result"
    }
   ],
   "source": [
    "# Create new dataframe for customer rating 5\n",
    "\n",
    "df6 = data[(data['customer_rating']==5)]\n",
    "df6.head(1)"
   ]
  },
  {
   "cell_type": "code",
   "execution_count": 232,
   "id": "d7b95fef",
   "metadata": {},
   "outputs": [],
   "source": [
    "# Create function to compare \n",
    "def bar_charts(df, feature):\n",
    "    '''\n",
    "    Inputs:\n",
    "    df: Dataset\n",
    "    feature: Name of Feature to Check With Customer_rating reach on time\n",
    "    '''\n",
    "    _agg = {\n",
    "        'customer_care_calls': 'count'\n",
    "    }\n",
    "    _groupby = ['reached_on_time_y.n', feature]\n",
    "\n",
    "    df_feature = df.groupby(by=_groupby).agg(_agg)\n",
    "\n",
    "    \n",
    "    ax = df_feature.unstack().plot(kind='bar', figsize=(15,6), cmap=\"BuPu\" )\n",
    "    \n",
    "    plt.legend(list(df_feature.index.levels[1].unique()))\n",
    "    plt.title(feature)\n",
    "    plt.xlabel('Reach on Time')\n",
    "    plt.ylabel(feature)\n",
    "    plt.xticks(np.arange(2), ('No', 'Yes'))  \n",
    "    plt.show();"
   ]
  },
  {
   "cell_type": "code",
   "execution_count": 233,
   "id": "3f23d65f",
   "metadata": {},
   "outputs": [
    {
     "data": {
      "image/png": "[encoded data removed]",
      "text/plain": [
       "<Figure size 1500x600 with 1 Axes>"
      ]
     },
     "metadata": {},
     "output_type": "display_data"
    }
   ],
   "source": [
    "# Customer rating 5 vs mode of shipment\n",
    "bar_charts(df6, 'mode_of_shipment')\n",
    "plt.show()\n",
    "# Shipping has the highest mode for customer reach on time"
   ]
  },
  {
   "cell_type": "code",
   "execution_count": 234,
   "id": "f1d9e919",
   "metadata": {},
   "outputs": [
    {
     "data": {
      "image/png": "[encoded data removed]",
      "text/plain": [
       "<Figure size 1500x600 with 1 Axes>"
      ]
     },
     "metadata": {},
     "output_type": "display_data"
    }
   ],
   "source": [
    "# Customer rating 5 vs warehouse block\n",
    "bar_charts(df6, 'warehouse_block')\n",
    "plt.show()\n",
    "# Ware house F has the highest rating"
   ]
  },
  {
   "cell_type": "code",
   "execution_count": 235,
   "id": "1563345b",
   "metadata": {},
   "outputs": [
    {
     "data": {
      "image/png": "[encoded data removed]",
      "text/plain": [
       "<Figure size 1500x600 with 1 Axes>"
      ]
     },
     "metadata": {},
     "output_type": "display_data"
    }
   ],
   "source": [
    "# Customer rating 5 vs customer care calls\n",
    "bar_charts(df6, 'customer_care_calls')\n",
    "plt.show()\n",
    "# There is more customer calls on time target, showing that customer need to make calls more in order for shipment to reach on time "
   ]
  },
  {
   "cell_type": "code",
   "execution_count": 269,
   "id": "74522d25",
   "metadata": {},
   "outputs": [
    {
     "data": {
      "image/png": "[encoded data removed]",
      "text/plain": [
       "<Figure size 1500x600 with 1 Axes>"
      ]
     },
     "metadata": {},
     "output_type": "display_data"
    }
   ],
   "source": [
    "# Customer rating 5 vs discount\n",
    "bar_charts(df6, 'discount_class')\n",
    "plt.show()\n",
    "# More discount offered"
   ]
  },
  {
   "cell_type": "markdown",
   "id": "d0f42fb9",
   "metadata": {},
   "source": [
    "### Comparing data with only Warehouse F with customer rating 5"
   ]
  },
  {
   "cell_type": "code",
   "execution_count": 264,
   "id": "6573ec2e",
   "metadata": {},
   "outputs": [
    {
     "data": {
      "text/html": [
       "<div>\n",
       "<style scoped>\n",
       "    .dataframe tbody tr th:only-of-type {\n",
       "        vertical-align: middle;\n",
       "    }\n",
       "\n",
       "    .dataframe tbody tr th {\n",
       "        vertical-align: top;\n",
       "    }\n",
       "\n",
       "    .dataframe thead th {\n",
       "        text-align: right;\n",
       "    }\n",
       "</style>\n",
       "<table border=\"1\" class=\"dataframe\">\n",
       "  <thead>\n",
       "    <tr style=\"text-align: right;\">\n",
       "      <th></th>\n",
       "      <th>warehouse_block</th>\n",
       "      <th>mode_of_shipment</th>\n",
       "      <th>customer_care_calls</th>\n",
       "      <th>customer_rating</th>\n",
       "      <th>cost_of_the_product</th>\n",
       "      <th>prior_purchases</th>\n",
       "      <th>product_importance</th>\n",
       "      <th>gender</th>\n",
       "      <th>discount_offered</th>\n",
       "      <th>weight_in_gms</th>\n",
       "      <th>reached_on_time_y.n</th>\n",
       "      <th>gender_r</th>\n",
       "      <th>product_importance_r</th>\n",
       "      <th>reached_on_time_y.n_r</th>\n",
       "      <th>cost_class</th>\n",
       "      <th>discount_class</th>\n",
       "      <th>wt_class</th>\n",
       "    </tr>\n",
       "    <tr>\n",
       "      <th>id</th>\n",
       "      <th></th>\n",
       "      <th></th>\n",
       "      <th></th>\n",
       "      <th></th>\n",
       "      <th></th>\n",
       "      <th></th>\n",
       "      <th></th>\n",
       "      <th></th>\n",
       "      <th></th>\n",
       "      <th></th>\n",
       "      <th></th>\n",
       "      <th></th>\n",
       "      <th></th>\n",
       "      <th></th>\n",
       "      <th></th>\n",
       "      <th></th>\n",
       "      <th></th>\n",
       "    </tr>\n",
       "  </thead>\n",
       "  <tbody>\n",
       "    <tr>\n",
       "      <th>2</th>\n",
       "      <td>F</td>\n",
       "      <td>Flight</td>\n",
       "      <td>4</td>\n",
       "      <td>5</td>\n",
       "      <td>216</td>\n",
       "      <td>2</td>\n",
       "      <td>low</td>\n",
       "      <td>M</td>\n",
       "      <td>59</td>\n",
       "      <td>3088</td>\n",
       "      <td>1</td>\n",
       "      <td>0</td>\n",
       "      <td>1</td>\n",
       "      <td>no</td>\n",
       "      <td>Avg Cost</td>\n",
       "      <td>High Discount Offered</td>\n",
       "      <td>Light Weight</td>\n",
       "    </tr>\n",
       "    <tr>\n",
       "      <th>12</th>\n",
       "      <td>F</td>\n",
       "      <td>Flight</td>\n",
       "      <td>4</td>\n",
       "      <td>5</td>\n",
       "      <td>232</td>\n",
       "      <td>3</td>\n",
       "      <td>medium</td>\n",
       "      <td>F</td>\n",
       "      <td>32</td>\n",
       "      <td>3253</td>\n",
       "      <td>1</td>\n",
       "      <td>1</td>\n",
       "      <td>2</td>\n",
       "      <td>no</td>\n",
       "      <td>Avg Cost</td>\n",
       "      <td>High Discount Offered</td>\n",
       "      <td>Light Weight</td>\n",
       "    </tr>\n",
       "    <tr>\n",
       "      <th>18</th>\n",
       "      <td>F</td>\n",
       "      <td>Ship</td>\n",
       "      <td>5</td>\n",
       "      <td>5</td>\n",
       "      <td>227</td>\n",
       "      <td>3</td>\n",
       "      <td>medium</td>\n",
       "      <td>M</td>\n",
       "      <td>36</td>\n",
       "      <td>3952</td>\n",
       "      <td>1</td>\n",
       "      <td>0</td>\n",
       "      <td>2</td>\n",
       "      <td>no</td>\n",
       "      <td>Avg Cost</td>\n",
       "      <td>High Discount Offered</td>\n",
       "      <td>Light Weight</td>\n",
       "    </tr>\n",
       "    <tr>\n",
       "      <th>20</th>\n",
       "      <td>F</td>\n",
       "      <td>Ship</td>\n",
       "      <td>4</td>\n",
       "      <td>5</td>\n",
       "      <td>145</td>\n",
       "      <td>3</td>\n",
       "      <td>medium</td>\n",
       "      <td>M</td>\n",
       "      <td>45</td>\n",
       "      <td>1059</td>\n",
       "      <td>1</td>\n",
       "      <td>0</td>\n",
       "      <td>2</td>\n",
       "      <td>no</td>\n",
       "      <td>Low Cost</td>\n",
       "      <td>High Discount Offered</td>\n",
       "      <td>Light Weight</td>\n",
       "    </tr>\n",
       "    <tr>\n",
       "      <th>42</th>\n",
       "      <td>F</td>\n",
       "      <td>Ship</td>\n",
       "      <td>5</td>\n",
       "      <td>5</td>\n",
       "      <td>139</td>\n",
       "      <td>4</td>\n",
       "      <td>medium</td>\n",
       "      <td>M</td>\n",
       "      <td>61</td>\n",
       "      <td>1265</td>\n",
       "      <td>1</td>\n",
       "      <td>0</td>\n",
       "      <td>2</td>\n",
       "      <td>no</td>\n",
       "      <td>Low Cost</td>\n",
       "      <td>High Discount Offered</td>\n",
       "      <td>Light Weight</td>\n",
       "    </tr>\n",
       "    <tr>\n",
       "      <th>...</th>\n",
       "      <td>...</td>\n",
       "      <td>...</td>\n",
       "      <td>...</td>\n",
       "      <td>...</td>\n",
       "      <td>...</td>\n",
       "      <td>...</td>\n",
       "      <td>...</td>\n",
       "      <td>...</td>\n",
       "      <td>...</td>\n",
       "      <td>...</td>\n",
       "      <td>...</td>\n",
       "      <td>...</td>\n",
       "      <td>...</td>\n",
       "      <td>...</td>\n",
       "      <td>...</td>\n",
       "      <td>...</td>\n",
       "      <td>...</td>\n",
       "    </tr>\n",
       "    <tr>\n",
       "      <th>10872</th>\n",
       "      <td>F</td>\n",
       "      <td>Ship</td>\n",
       "      <td>3</td>\n",
       "      <td>5</td>\n",
       "      <td>205</td>\n",
       "      <td>4</td>\n",
       "      <td>low</td>\n",
       "      <td>F</td>\n",
       "      <td>9</td>\n",
       "      <td>4819</td>\n",
       "      <td>1</td>\n",
       "      <td>1</td>\n",
       "      <td>1</td>\n",
       "      <td>no</td>\n",
       "      <td>Low Cost</td>\n",
       "      <td>Avg Discount Offered</td>\n",
       "      <td>Avg Weight</td>\n",
       "    </tr>\n",
       "    <tr>\n",
       "      <th>10890</th>\n",
       "      <td>F</td>\n",
       "      <td>Ship</td>\n",
       "      <td>5</td>\n",
       "      <td>5</td>\n",
       "      <td>243</td>\n",
       "      <td>2</td>\n",
       "      <td>medium</td>\n",
       "      <td>F</td>\n",
       "      <td>5</td>\n",
       "      <td>4709</td>\n",
       "      <td>0</td>\n",
       "      <td>1</td>\n",
       "      <td>2</td>\n",
       "      <td>yes</td>\n",
       "      <td>Avg Cost</td>\n",
       "      <td>Low discount Offered</td>\n",
       "      <td>Avg Weight</td>\n",
       "    </tr>\n",
       "    <tr>\n",
       "      <th>10904</th>\n",
       "      <td>F</td>\n",
       "      <td>Ship</td>\n",
       "      <td>3</td>\n",
       "      <td>5</td>\n",
       "      <td>241</td>\n",
       "      <td>4</td>\n",
       "      <td>low</td>\n",
       "      <td>F</td>\n",
       "      <td>9</td>\n",
       "      <td>5526</td>\n",
       "      <td>1</td>\n",
       "      <td>1</td>\n",
       "      <td>1</td>\n",
       "      <td>no</td>\n",
       "      <td>Avg Cost</td>\n",
       "      <td>Avg Discount Offered</td>\n",
       "      <td>Heavy Weight</td>\n",
       "    </tr>\n",
       "    <tr>\n",
       "      <th>10956</th>\n",
       "      <td>F</td>\n",
       "      <td>Flight</td>\n",
       "      <td>2</td>\n",
       "      <td>5</td>\n",
       "      <td>125</td>\n",
       "      <td>4</td>\n",
       "      <td>low</td>\n",
       "      <td>M</td>\n",
       "      <td>5</td>\n",
       "      <td>5866</td>\n",
       "      <td>0</td>\n",
       "      <td>0</td>\n",
       "      <td>1</td>\n",
       "      <td>yes</td>\n",
       "      <td>Low Cost</td>\n",
       "      <td>Low discount Offered</td>\n",
       "      <td>Heavy Weight</td>\n",
       "    </tr>\n",
       "    <tr>\n",
       "      <th>10964</th>\n",
       "      <td>F</td>\n",
       "      <td>Flight</td>\n",
       "      <td>4</td>\n",
       "      <td>5</td>\n",
       "      <td>220</td>\n",
       "      <td>10</td>\n",
       "      <td>medium</td>\n",
       "      <td>M</td>\n",
       "      <td>8</td>\n",
       "      <td>4100</td>\n",
       "      <td>1</td>\n",
       "      <td>0</td>\n",
       "      <td>2</td>\n",
       "      <td>no</td>\n",
       "      <td>Avg Cost</td>\n",
       "      <td>Avg Discount Offered</td>\n",
       "      <td>Light Weight</td>\n",
       "    </tr>\n",
       "  </tbody>\n",
       "</table>\n",
       "<p>720 rows × 17 columns</p>\n",
       "</div>"
      ],
      "text/plain": [
       "      warehouse_block mode_of_shipment  customer_care_calls  customer_rating  \\\n",
       "id                                                                             \n",
       "2                   F           Flight                    4                5   \n",
       "12                  F           Flight                    4                5   \n",
       "18                  F             Ship                    5                5   \n",
       "20                  F             Ship                    4                5   \n",
       "42                  F             Ship                    5                5   \n",
       "...               ...              ...                  ...              ...   \n",
       "10872               F             Ship                    3                5   \n",
       "10890               F             Ship                    5                5   \n",
       "10904               F             Ship                    3                5   \n",
       "10956               F           Flight                    2                5   \n",
       "10964               F           Flight                    4                5   \n",
       "\n",
       "       cost_of_the_product  prior_purchases product_importance gender  \\\n",
       "id                                                                      \n",
       "2                      216                2                low      M   \n",
       "12                     232                3             medium      F   \n",
       "18                     227                3             medium      M   \n",
       "20                     145                3             medium      M   \n",
       "42                     139                4             medium      M   \n",
       "...                    ...              ...                ...    ...   \n",
       "10872                  205                4                low      F   \n",
       "10890                  243                2             medium      F   \n",
       "10904                  241                4                low      F   \n",
       "10956                  125                4                low      M   \n",
       "10964                  220               10             medium      M   \n",
       "\n",
       "       discount_offered  weight_in_gms  reached_on_time_y.n  gender_r  \\\n",
       "id                                                                      \n",
       "2                    59           3088                    1         0   \n",
       "12                   32           3253                    1         1   \n",
       "18                   36           3952                    1         0   \n",
       "20                   45           1059                    1         0   \n",
       "42                   61           1265                    1         0   \n",
       "...                 ...            ...                  ...       ...   \n",
       "10872                 9           4819                    1         1   \n",
       "10890                 5           4709                    0         1   \n",
       "10904                 9           5526                    1         1   \n",
       "10956                 5           5866                    0         0   \n",
       "10964                 8           4100                    1         0   \n",
       "\n",
       "       product_importance_r reached_on_time_y.n_r cost_class  \\\n",
       "id                                                             \n",
       "2                         1                    no   Avg Cost   \n",
       "12                        2                    no   Avg Cost   \n",
       "18                        2                    no   Avg Cost   \n",
       "20                        2                    no   Low Cost   \n",
       "42                        2                    no   Low Cost   \n",
       "...                     ...                   ...        ...   \n",
       "10872                     1                    no   Low Cost   \n",
       "10890                     2                   yes   Avg Cost   \n",
       "10904                     1                    no   Avg Cost   \n",
       "10956                     1                   yes   Low Cost   \n",
       "10964                     2                    no   Avg Cost   \n",
       "\n",
       "              discount_class      wt_class  \n",
       "id                                          \n",
       "2      High Discount Offered  Light Weight  \n",
       "12     High Discount Offered  Light Weight  \n",
       "18     High Discount Offered  Light Weight  \n",
       "20     High Discount Offered  Light Weight  \n",
       "42     High Discount Offered  Light Weight  \n",
       "...                      ...           ...  \n",
       "10872   Avg Discount Offered    Avg Weight  \n",
       "10890   Low discount Offered    Avg Weight  \n",
       "10904   Avg Discount Offered  Heavy Weight  \n",
       "10956   Low discount Offered  Heavy Weight  \n",
       "10964   Avg Discount Offered  Light Weight  \n",
       "\n",
       "[720 rows x 17 columns]"
      ]
     },
     "execution_count": 264,
     "metadata": {},
     "output_type": "execute_result"
    }
   ],
   "source": [
    "# Create new dataframe and catergorized to Ware house F\n",
    "\n",
    "df2 = data[(data['warehouse_block']=='F')& (data['customer_rating']==5)]\n",
    "df2"
   ]
  },
  {
   "cell_type": "code",
   "execution_count": 265,
   "id": "fe4f8ed1",
   "metadata": {},
   "outputs": [],
   "source": [
    "# Creeate a functions to compare\n",
    "def bar_charts1(df, feature):\n",
    "    '''\n",
    "    Inputs:\n",
    "    df: Dataset\n",
    "    feature: Name of Feature to Check With Warehouse F activity\n",
    "    '''\n",
    "    _agg = {\n",
    "        'customer_care_calls': 'count'\n",
    "    }\n",
    "    _groupby = ['mode_of_shipment', feature]\n",
    "\n",
    "    df_feature = df.groupby(by=_groupby).agg(_agg)\n",
    "    \n",
    "    ax = df_feature.unstack().plot(kind='bar', figsize=(15,6), cmap=\"BuPu\")\n",
    "    plt.legend(list(df_feature.index.levels[1].unique()))\n",
    "    plt.title(feature)\n",
    "    plt.xlabel('mode_of_shipment')\n",
    "    plt.ylabel(feature)\n",
    "    plt.xticks(np.arange(3), ('Flight', 'Ship', 'Road'))  \n",
    "    plt.show();"
   ]
  },
  {
   "cell_type": "code",
   "execution_count": 266,
   "id": "2f21de7c",
   "metadata": {},
   "outputs": [
    {
     "data": {
      "image/png": "[encoded data removed]",
      "text/plain": [
       "<Figure size 1500x600 with 1 Axes>"
      ]
     },
     "metadata": {},
     "output_type": "display_data"
    }
   ],
   "source": [
    "# Mode of shipment vs on time\n",
    "bar_charts1(df2,'reached_on_time_y.n_r')\n",
    "plt.show()\n",
    "# Road has the more activity in warehouse F with higher chance on not reaching on time then on time"
   ]
  },
  {
   "cell_type": "code",
   "execution_count": 267,
   "id": "84099416",
   "metadata": {},
   "outputs": [
    {
     "data": {
      "image/png": "[encoded data removed]",
      "text/plain": [
       "<Figure size 1500x600 with 1 Axes>"
      ]
     },
     "metadata": {},
     "output_type": "display_data"
    }
   ],
   "source": [
    "# Mode of customer calls vs shipment mode\n",
    "bar_charts1(df2,'customer_care_calls')\n",
    "plt.show()\n",
    "# customer calls activity is more on road than on "
   ]
  },
  {
   "cell_type": "code",
   "execution_count": 263,
   "id": "dd45cf29",
   "metadata": {},
   "outputs": [
    {
     "data": {
      "text/plain": [
       "Index(['warehouse_block', 'mode_of_shipment', 'customer_care_calls',\n",
       "       'customer_rating', 'cost_of_the_product', 'prior_purchases',\n",
       "       'product_importance', 'gender', 'discount_offered', 'weight_in_gms',\n",
       "       'reached_on_time_y.n', 'gender_r', 'product_importance_r',\n",
       "       'reached_on_time_y.n_r', 'cost_class', 'discount_class', 'wt_class'],\n",
       "      dtype='object')"
      ]
     },
     "execution_count": 263,
     "metadata": {},
     "output_type": "execute_result"
    }
   ],
   "source": [
    "data.columns"
   ]
  },
  {
   "cell_type": "markdown",
   "id": "d3d5e48b",
   "metadata": {},
   "source": [
    "### Comparing data with only customer rating 1"
   ]
  },
  {
   "cell_type": "code",
   "execution_count": 241,
   "id": "e45125bb",
   "metadata": {},
   "outputs": [
    {
     "data": {
      "text/html": [
       "<div>\n",
       "<style scoped>\n",
       "    .dataframe tbody tr th:only-of-type {\n",
       "        vertical-align: middle;\n",
       "    }\n",
       "\n",
       "    .dataframe tbody tr th {\n",
       "        vertical-align: top;\n",
       "    }\n",
       "\n",
       "    .dataframe thead th {\n",
       "        text-align: right;\n",
       "    }\n",
       "</style>\n",
       "<table border=\"1\" class=\"dataframe\">\n",
       "  <thead>\n",
       "    <tr style=\"text-align: right;\">\n",
       "      <th></th>\n",
       "      <th>warehouse_block</th>\n",
       "      <th>mode_of_shipment</th>\n",
       "      <th>customer_care_calls</th>\n",
       "      <th>customer_rating</th>\n",
       "      <th>cost_of_the_product</th>\n",
       "      <th>prior_purchases</th>\n",
       "      <th>product_importance</th>\n",
       "      <th>gender</th>\n",
       "      <th>discount_offered</th>\n",
       "      <th>weight_in_gms</th>\n",
       "      <th>reached_on_time_y.n</th>\n",
       "      <th>gender_r</th>\n",
       "      <th>product_importance_r</th>\n",
       "      <th>reached_on_time_y.n_r</th>\n",
       "      <th>cost_class</th>\n",
       "      <th>discount_class</th>\n",
       "      <th>wt_class</th>\n",
       "    </tr>\n",
       "    <tr>\n",
       "      <th>id</th>\n",
       "      <th></th>\n",
       "      <th></th>\n",
       "      <th></th>\n",
       "      <th></th>\n",
       "      <th></th>\n",
       "      <th></th>\n",
       "      <th></th>\n",
       "      <th></th>\n",
       "      <th></th>\n",
       "      <th></th>\n",
       "      <th></th>\n",
       "      <th></th>\n",
       "      <th></th>\n",
       "      <th></th>\n",
       "      <th></th>\n",
       "      <th></th>\n",
       "      <th></th>\n",
       "    </tr>\n",
       "  </thead>\n",
       "  <tbody>\n",
       "    <tr>\n",
       "      <th>6</th>\n",
       "      <td>F</td>\n",
       "      <td>Flight</td>\n",
       "      <td>3</td>\n",
       "      <td>1</td>\n",
       "      <td>162</td>\n",
       "      <td>3</td>\n",
       "      <td>medium</td>\n",
       "      <td>F</td>\n",
       "      <td>12</td>\n",
       "      <td>1417</td>\n",
       "      <td>1</td>\n",
       "      <td>1</td>\n",
       "      <td>2</td>\n",
       "      <td>no</td>\n",
       "      <td>Low Cost</td>\n",
       "      <td>High Discount Offered</td>\n",
       "      <td>Light Weight</td>\n",
       "    </tr>\n",
       "    <tr>\n",
       "      <th>8</th>\n",
       "      <td>F</td>\n",
       "      <td>Flight</td>\n",
       "      <td>4</td>\n",
       "      <td>1</td>\n",
       "      <td>233</td>\n",
       "      <td>2</td>\n",
       "      <td>low</td>\n",
       "      <td>F</td>\n",
       "      <td>48</td>\n",
       "      <td>2804</td>\n",
       "      <td>1</td>\n",
       "      <td>1</td>\n",
       "      <td>1</td>\n",
       "      <td>no</td>\n",
       "      <td>Avg Cost</td>\n",
       "      <td>High Discount Offered</td>\n",
       "      <td>Light Weight</td>\n",
       "    </tr>\n",
       "    <tr>\n",
       "      <th>22</th>\n",
       "      <td>B</td>\n",
       "      <td>Ship</td>\n",
       "      <td>3</td>\n",
       "      <td>1</td>\n",
       "      <td>232</td>\n",
       "      <td>4</td>\n",
       "      <td>medium</td>\n",
       "      <td>F</td>\n",
       "      <td>51</td>\n",
       "      <td>2899</td>\n",
       "      <td>1</td>\n",
       "      <td>1</td>\n",
       "      <td>2</td>\n",
       "      <td>no</td>\n",
       "      <td>Avg Cost</td>\n",
       "      <td>High Discount Offered</td>\n",
       "      <td>Light Weight</td>\n",
       "    </tr>\n",
       "    <tr>\n",
       "      <th>26</th>\n",
       "      <td>F</td>\n",
       "      <td>Ship</td>\n",
       "      <td>3</td>\n",
       "      <td>1</td>\n",
       "      <td>225</td>\n",
       "      <td>4</td>\n",
       "      <td>low</td>\n",
       "      <td>M</td>\n",
       "      <td>29</td>\n",
       "      <td>3496</td>\n",
       "      <td>1</td>\n",
       "      <td>0</td>\n",
       "      <td>1</td>\n",
       "      <td>no</td>\n",
       "      <td>Avg Cost</td>\n",
       "      <td>High Discount Offered</td>\n",
       "      <td>Light Weight</td>\n",
       "    </tr>\n",
       "    <tr>\n",
       "      <th>27</th>\n",
       "      <td>A</td>\n",
       "      <td>Ship</td>\n",
       "      <td>4</td>\n",
       "      <td>1</td>\n",
       "      <td>172</td>\n",
       "      <td>3</td>\n",
       "      <td>high</td>\n",
       "      <td>F</td>\n",
       "      <td>24</td>\n",
       "      <td>1066</td>\n",
       "      <td>1</td>\n",
       "      <td>1</td>\n",
       "      <td>3</td>\n",
       "      <td>no</td>\n",
       "      <td>Low Cost</td>\n",
       "      <td>High Discount Offered</td>\n",
       "      <td>Light Weight</td>\n",
       "    </tr>\n",
       "  </tbody>\n",
       "</table>\n",
       "</div>"
      ],
      "text/plain": [
       "   warehouse_block mode_of_shipment  customer_care_calls  customer_rating  \\\n",
       "id                                                                          \n",
       "6                F           Flight                    3                1   \n",
       "8                F           Flight                    4                1   \n",
       "22               B             Ship                    3                1   \n",
       "26               F             Ship                    3                1   \n",
       "27               A             Ship                    4                1   \n",
       "\n",
       "    cost_of_the_product  prior_purchases product_importance gender  \\\n",
       "id                                                                   \n",
       "6                   162                3             medium      F   \n",
       "8                   233                2                low      F   \n",
       "22                  232                4             medium      F   \n",
       "26                  225                4                low      M   \n",
       "27                  172                3               high      F   \n",
       "\n",
       "    discount_offered  weight_in_gms  reached_on_time_y.n  gender_r  \\\n",
       "id                                                                   \n",
       "6                 12           1417                    1         1   \n",
       "8                 48           2804                    1         1   \n",
       "22                51           2899                    1         1   \n",
       "26                29           3496                    1         0   \n",
       "27                24           1066                    1         1   \n",
       "\n",
       "    product_importance_r reached_on_time_y.n_r cost_class  \\\n",
       "id                                                          \n",
       "6                      2                    no   Low Cost   \n",
       "8                      1                    no   Avg Cost   \n",
       "22                     2                    no   Avg Cost   \n",
       "26                     1                    no   Avg Cost   \n",
       "27                     3                    no   Low Cost   \n",
       "\n",
       "           discount_class      wt_class  \n",
       "id                                       \n",
       "6   High Discount Offered  Light Weight  \n",
       "8   High Discount Offered  Light Weight  \n",
       "22  High Discount Offered  Light Weight  \n",
       "26  High Discount Offered  Light Weight  \n",
       "27  High Discount Offered  Light Weight  "
      ]
     },
     "execution_count": 241,
     "metadata": {},
     "output_type": "execute_result"
    }
   ],
   "source": [
    "# Create new dataframe and catergorized to customer ratings 1\n",
    "\n",
    "df3 = data[(data['customer_rating']==1)]\n",
    "df3.head()"
   ]
  },
  {
   "cell_type": "code",
   "execution_count": 242,
   "id": "69f682ca",
   "metadata": {},
   "outputs": [],
   "source": [
    "def bar_charts3(df, feature):\n",
    "    '''\n",
    "    Inputs:\n",
    "    df: Dataset\n",
    "    feature: Name of Feature to Check With customer rating 1\n",
    "    '''\n",
    "    _agg = {\n",
    "        'customer_care_calls': 'count'\n",
    "    }\n",
    "    _groupby = ['reached_on_time_y.n_r', feature]\n",
    "\n",
    "    df_feature = df.groupby(by=_groupby).agg(_agg)\n",
    "    \n",
    "    ax = df_feature.unstack().plot(kind='bar', figsize=(15,6), cmap=\"BuPu\")\n",
    "    plt.legend(list(df_feature.index.levels[1].unique()))\n",
    "    plt.title(feature)\n",
    "    plt.xlabel('Reach on time')\n",
    "    plt.ylabel(feature)\n",
    "    plt.xticks(np.arange(2), ('yes', 'no'))  \n",
    "    plt.show();"
   ]
  },
  {
   "cell_type": "code",
   "execution_count": 243,
   "id": "904d1069",
   "metadata": {},
   "outputs": [
    {
     "data": {
      "image/png": "[encoded data removed]",
      "text/plain": [
       "<Figure size 1500x600 with 1 Axes>"
      ]
     },
     "metadata": {},
     "output_type": "display_data"
    }
   ],
   "source": [
    "# Customer rating 1 vs mode of shipment\n",
    "bar_charts3(df3, 'mode_of_shipment')\n",
    "\n",
    "plt.show()"
   ]
  },
  {
   "cell_type": "code",
   "execution_count": 244,
   "id": "e1806787",
   "metadata": {},
   "outputs": [
    {
     "data": {
      "image/png": "[encoded data removed]",
      "text/plain": [
       "<Figure size 1500x600 with 1 Axes>"
      ]
     },
     "metadata": {},
     "output_type": "display_data"
    }
   ],
   "source": [
    "# Customer rating 1 vs mode of shipment\n",
    "bar_charts3(df3, 'warehouse_block')\n",
    "plt.show()"
   ]
  },
  {
   "cell_type": "markdown",
   "id": "19c94df6",
   "metadata": {},
   "source": [
    "### Comparing data with only Customer rating 5 and care calls at 2"
   ]
  },
  {
   "cell_type": "code",
   "execution_count": 245,
   "id": "79906995",
   "metadata": {},
   "outputs": [
    {
     "data": {
      "text/html": [
       "<div>\n",
       "<style scoped>\n",
       "    .dataframe tbody tr th:only-of-type {\n",
       "        vertical-align: middle;\n",
       "    }\n",
       "\n",
       "    .dataframe tbody tr th {\n",
       "        vertical-align: top;\n",
       "    }\n",
       "\n",
       "    .dataframe thead th {\n",
       "        text-align: right;\n",
       "    }\n",
       "</style>\n",
       "<table border=\"1\" class=\"dataframe\">\n",
       "  <thead>\n",
       "    <tr style=\"text-align: right;\">\n",
       "      <th></th>\n",
       "      <th>warehouse_block</th>\n",
       "      <th>mode_of_shipment</th>\n",
       "      <th>customer_care_calls</th>\n",
       "      <th>customer_rating</th>\n",
       "      <th>cost_of_the_product</th>\n",
       "      <th>prior_purchases</th>\n",
       "      <th>product_importance</th>\n",
       "      <th>gender</th>\n",
       "      <th>discount_offered</th>\n",
       "      <th>weight_in_gms</th>\n",
       "      <th>reached_on_time_y.n</th>\n",
       "      <th>gender_r</th>\n",
       "      <th>product_importance_r</th>\n",
       "      <th>reached_on_time_y.n_r</th>\n",
       "      <th>cost_class</th>\n",
       "      <th>discount_class</th>\n",
       "      <th>wt_class</th>\n",
       "    </tr>\n",
       "    <tr>\n",
       "      <th>id</th>\n",
       "      <th></th>\n",
       "      <th></th>\n",
       "      <th></th>\n",
       "      <th></th>\n",
       "      <th></th>\n",
       "      <th></th>\n",
       "      <th></th>\n",
       "      <th></th>\n",
       "      <th></th>\n",
       "      <th></th>\n",
       "      <th></th>\n",
       "      <th></th>\n",
       "      <th></th>\n",
       "      <th></th>\n",
       "      <th></th>\n",
       "      <th></th>\n",
       "      <th></th>\n",
       "    </tr>\n",
       "  </thead>\n",
       "  <tbody>\n",
       "    <tr>\n",
       "      <th>23</th>\n",
       "      <td>C</td>\n",
       "      <td>Ship</td>\n",
       "      <td>2</td>\n",
       "      <td>5</td>\n",
       "      <td>156</td>\n",
       "      <td>2</td>\n",
       "      <td>low</td>\n",
       "      <td>M</td>\n",
       "      <td>2</td>\n",
       "      <td>1750</td>\n",
       "      <td>1</td>\n",
       "      <td>0</td>\n",
       "      <td>1</td>\n",
       "      <td>no</td>\n",
       "      <td>Low Cost</td>\n",
       "      <td>Low discount Offered</td>\n",
       "      <td>Light Weight</td>\n",
       "    </tr>\n",
       "  </tbody>\n",
       "</table>\n",
       "</div>"
      ],
      "text/plain": [
       "   warehouse_block mode_of_shipment  customer_care_calls  customer_rating  \\\n",
       "id                                                                          \n",
       "23               C             Ship                    2                5   \n",
       "\n",
       "    cost_of_the_product  prior_purchases product_importance gender  \\\n",
       "id                                                                   \n",
       "23                  156                2                low      M   \n",
       "\n",
       "    discount_offered  weight_in_gms  reached_on_time_y.n  gender_r  \\\n",
       "id                                                                   \n",
       "23                 2           1750                    1         0   \n",
       "\n",
       "    product_importance_r reached_on_time_y.n_r cost_class  \\\n",
       "id                                                          \n",
       "23                     1                    no   Low Cost   \n",
       "\n",
       "          discount_class      wt_class  \n",
       "id                                      \n",
       "23  Low discount Offered  Light Weight  "
      ]
     },
     "execution_count": 245,
     "metadata": {},
     "output_type": "execute_result"
    }
   ],
   "source": [
    "# Create new dataframe for customer rating 5\n",
    "\n",
    "df7 = data[(data['customer_rating']==5) & (data['customer_care_calls']==2) ]\n",
    "df7.head(1)"
   ]
  },
  {
   "cell_type": "code",
   "execution_count": 246,
   "id": "746444a3",
   "metadata": {},
   "outputs": [],
   "source": [
    "# Create a function to compare\n",
    "def bar_charts5(df, feature):\n",
    "    '''\n",
    "    Inputs:\n",
    "    df: Dataset\n",
    "    feature: Name of Feature to Check With customer rating 5 and call care at 2\n",
    "    '''\n",
    "    _agg = {\n",
    "        'customer_care_calls': 'count'\n",
    "    }\n",
    "    _groupby = ['reached_on_time_y.n_r', feature]\n",
    "\n",
    "    df_feature = df.groupby(by=_groupby).agg(_agg)\n",
    "    \n",
    "    ax = df_feature.unstack().plot(kind='bar', figsize=(15,6), cmap=\"BuPu\")\n",
    "    plt.legend(list(df_feature.index.levels[1].unique()))\n",
    "    plt.title(feature)\n",
    "    plt.xlabel('Reach on time')\n",
    "    plt.ylabel(feature)\n",
    "    plt.xticks(np.arange(2), ('no', 'yes'))  \n",
    "    plt.show();"
   ]
  },
  {
   "cell_type": "code",
   "execution_count": 247,
   "id": "b325e949",
   "metadata": {},
   "outputs": [
    {
     "data": {
      "image/png": "[encoded data removed]",
      "text/plain": [
       "<Figure size 1500x600 with 1 Axes>"
      ]
     },
     "metadata": {},
     "output_type": "display_data"
    }
   ],
   "source": [
    "# customer calls at 2 and best customer rating at 5 vs mode of shipment\n",
    "bar_charts5(df7, 'mode_of_shipment')"
   ]
  },
  {
   "cell_type": "markdown",
   "id": "de5fa79e",
   "metadata": {},
   "source": [
    "### To normalized data- Can be used for future actions"
   ]
  },
  {
   "cell_type": "code",
   "execution_count": 248,
   "id": "221d9305",
   "metadata": {},
   "outputs": [
    {
     "data": {
      "text/html": [
       "<div>\n",
       "<style scoped>\n",
       "    .dataframe tbody tr th:only-of-type {\n",
       "        vertical-align: middle;\n",
       "    }\n",
       "\n",
       "    .dataframe tbody tr th {\n",
       "        vertical-align: top;\n",
       "    }\n",
       "\n",
       "    .dataframe thead th {\n",
       "        text-align: right;\n",
       "    }\n",
       "</style>\n",
       "<table border=\"1\" class=\"dataframe\">\n",
       "  <thead>\n",
       "    <tr style=\"text-align: right;\">\n",
       "      <th></th>\n",
       "      <th>warehouse_block</th>\n",
       "      <th>mode_of_shipment</th>\n",
       "      <th>customer_care_calls</th>\n",
       "      <th>customer_rating</th>\n",
       "      <th>cost_of_the_product</th>\n",
       "      <th>prior_purchases</th>\n",
       "      <th>product_importance</th>\n",
       "      <th>gender</th>\n",
       "      <th>discount_offered</th>\n",
       "      <th>weight_in_gms</th>\n",
       "      <th>reached_on_time_y.n</th>\n",
       "      <th>gender_r</th>\n",
       "      <th>product_importance_r</th>\n",
       "      <th>reached_on_time_y.n_r</th>\n",
       "      <th>cost_class</th>\n",
       "      <th>discount_class</th>\n",
       "      <th>wt_class</th>\n",
       "    </tr>\n",
       "    <tr>\n",
       "      <th>id</th>\n",
       "      <th></th>\n",
       "      <th></th>\n",
       "      <th></th>\n",
       "      <th></th>\n",
       "      <th></th>\n",
       "      <th></th>\n",
       "      <th></th>\n",
       "      <th></th>\n",
       "      <th></th>\n",
       "      <th></th>\n",
       "      <th></th>\n",
       "      <th></th>\n",
       "      <th></th>\n",
       "      <th></th>\n",
       "      <th></th>\n",
       "      <th></th>\n",
       "      <th></th>\n",
       "    </tr>\n",
       "  </thead>\n",
       "  <tbody>\n",
       "    <tr>\n",
       "      <th>1</th>\n",
       "      <td>D</td>\n",
       "      <td>Flight</td>\n",
       "      <td>-0.010983</td>\n",
       "      <td>-0.247636</td>\n",
       "      <td>-0.155125</td>\n",
       "      <td>-0.07095</td>\n",
       "      <td>low</td>\n",
       "      <td>F</td>\n",
       "      <td>0.478544</td>\n",
       "      <td>-0.350769</td>\n",
       "      <td>0.403309</td>\n",
       "      <td>0.495863</td>\n",
       "      <td>-0.3023</td>\n",
       "      <td>no</td>\n",
       "      <td>Low Cost</td>\n",
       "      <td>High Discount Offered</td>\n",
       "      <td>Light Weight</td>\n",
       "    </tr>\n",
       "    <tr>\n",
       "      <th>2</th>\n",
       "      <td>F</td>\n",
       "      <td>Flight</td>\n",
       "      <td>-0.010983</td>\n",
       "      <td>0.502364</td>\n",
       "      <td>0.027118</td>\n",
       "      <td>-0.19595</td>\n",
       "      <td>low</td>\n",
       "      <td>M</td>\n",
       "      <td>0.712919</td>\n",
       "      <td>-0.079769</td>\n",
       "      <td>0.403309</td>\n",
       "      <td>-0.504137</td>\n",
       "      <td>-0.3023</td>\n",
       "      <td>no</td>\n",
       "      <td>Avg Cost</td>\n",
       "      <td>High Discount Offered</td>\n",
       "      <td>Light Weight</td>\n",
       "    </tr>\n",
       "    <tr>\n",
       "      <th>3</th>\n",
       "      <td>A</td>\n",
       "      <td>Flight</td>\n",
       "      <td>-0.410983</td>\n",
       "      <td>-0.247636</td>\n",
       "      <td>-0.127088</td>\n",
       "      <td>0.05405</td>\n",
       "      <td>low</td>\n",
       "      <td>M</td>\n",
       "      <td>0.541044</td>\n",
       "      <td>-0.037986</td>\n",
       "      <td>0.403309</td>\n",
       "      <td>-0.504137</td>\n",
       "      <td>-0.3023</td>\n",
       "      <td>no</td>\n",
       "      <td>Low Cost</td>\n",
       "      <td>High Discount Offered</td>\n",
       "      <td>Light Weight</td>\n",
       "    </tr>\n",
       "    <tr>\n",
       "      <th>4</th>\n",
       "      <td>B</td>\n",
       "      <td>Flight</td>\n",
       "      <td>-0.210983</td>\n",
       "      <td>0.002364</td>\n",
       "      <td>-0.159798</td>\n",
       "      <td>0.05405</td>\n",
       "      <td>medium</td>\n",
       "      <td>M</td>\n",
       "      <td>-0.052706</td>\n",
       "      <td>-0.358951</td>\n",
       "      <td>0.403309</td>\n",
       "      <td>-0.504137</td>\n",
       "      <td>0.1977</td>\n",
       "      <td>no</td>\n",
       "      <td>Low Cost</td>\n",
       "      <td>Low discount Offered</td>\n",
       "      <td>Light Weight</td>\n",
       "    </tr>\n",
       "    <tr>\n",
       "      <th>5</th>\n",
       "      <td>C</td>\n",
       "      <td>Flight</td>\n",
       "      <td>-0.410983</td>\n",
       "      <td>-0.247636</td>\n",
       "      <td>-0.122415</td>\n",
       "      <td>-0.07095</td>\n",
       "      <td>medium</td>\n",
       "      <td>F</td>\n",
       "      <td>0.509794</td>\n",
       "      <td>-0.168008</td>\n",
       "      <td>0.403309</td>\n",
       "      <td>0.495863</td>\n",
       "      <td>0.1977</td>\n",
       "      <td>no</td>\n",
       "      <td>Low Cost</td>\n",
       "      <td>High Discount Offered</td>\n",
       "      <td>Light Weight</td>\n",
       "    </tr>\n",
       "  </tbody>\n",
       "</table>\n",
       "</div>"
      ],
      "text/plain": [
       "   warehouse_block mode_of_shipment  customer_care_calls  customer_rating  \\\n",
       "id                                                                          \n",
       "1                D           Flight            -0.010983        -0.247636   \n",
       "2                F           Flight            -0.010983         0.502364   \n",
       "3                A           Flight            -0.410983        -0.247636   \n",
       "4                B           Flight            -0.210983         0.002364   \n",
       "5                C           Flight            -0.410983        -0.247636   \n",
       "\n",
       "    cost_of_the_product  prior_purchases product_importance gender  \\\n",
       "id                                                                   \n",
       "1             -0.155125         -0.07095                low      F   \n",
       "2              0.027118         -0.19595                low      M   \n",
       "3             -0.127088          0.05405                low      M   \n",
       "4             -0.159798          0.05405             medium      M   \n",
       "5             -0.122415         -0.07095             medium      F   \n",
       "\n",
       "    discount_offered  weight_in_gms  reached_on_time_y.n  gender_r  \\\n",
       "id                                                                   \n",
       "1           0.478544      -0.350769             0.403309  0.495863   \n",
       "2           0.712919      -0.079769             0.403309 -0.504137   \n",
       "3           0.541044      -0.037986             0.403309 -0.504137   \n",
       "4          -0.052706      -0.358951             0.403309 -0.504137   \n",
       "5           0.509794      -0.168008             0.403309  0.495863   \n",
       "\n",
       "    product_importance_r reached_on_time_y.n_r cost_class  \\\n",
       "id                                                          \n",
       "1                -0.3023                    no   Low Cost   \n",
       "2                -0.3023                    no   Avg Cost   \n",
       "3                -0.3023                    no   Low Cost   \n",
       "4                 0.1977                    no   Low Cost   \n",
       "5                 0.1977                    no   Low Cost   \n",
       "\n",
       "           discount_class      wt_class  \n",
       "id                                       \n",
       "1   High Discount Offered  Light Weight  \n",
       "2   High Discount Offered  Light Weight  \n",
       "3   High Discount Offered  Light Weight  \n",
       "4    Low discount Offered  Light Weight  \n",
       "5   High Discount Offered  Light Weight  "
      ]
     },
     "execution_count": 248,
     "metadata": {},
     "output_type": "execute_result"
    }
   ],
   "source": [
    "# Using min max\n",
    "# optional to do this\n",
    "\n",
    "dfx = data.copy()\n",
    "\n",
    "dfx_num = dfx.select_dtypes(include='number')\n",
    "\n",
    "dfx_norm = (dfx_num - dfx_num.mean()) / (dfx_num.max() - dfx_num.min())\n",
    "\n",
    "dfx[dfx_norm.columns] = dfx_norm\n",
    "\n",
    "dfx.head()"
   ]
  },
  {
   "cell_type": "code",
   "execution_count": 249,
   "id": "ce904df4",
   "metadata": {},
   "outputs": [
    {
     "data": {
      "text/html": [
       "<div>\n",
       "<style scoped>\n",
       "    .dataframe tbody tr th:only-of-type {\n",
       "        vertical-align: middle;\n",
       "    }\n",
       "\n",
       "    .dataframe tbody tr th {\n",
       "        vertical-align: top;\n",
       "    }\n",
       "\n",
       "    .dataframe thead th {\n",
       "        text-align: right;\n",
       "    }\n",
       "</style>\n",
       "<table border=\"1\" class=\"dataframe\">\n",
       "  <thead>\n",
       "    <tr style=\"text-align: right;\">\n",
       "      <th></th>\n",
       "      <th>customer_rating</th>\n",
       "      <th>cost_of_the_product</th>\n",
       "      <th>customer_care_calls</th>\n",
       "      <th>prior_purchases</th>\n",
       "      <th>discount_offered</th>\n",
       "      <th>weight_in_gms</th>\n",
       "      <th>product_importance_r</th>\n",
       "    </tr>\n",
       "    <tr>\n",
       "      <th>reached_on_time_y.n</th>\n",
       "      <th></th>\n",
       "      <th></th>\n",
       "      <th></th>\n",
       "      <th></th>\n",
       "      <th></th>\n",
       "      <th></th>\n",
       "      <th></th>\n",
       "    </tr>\n",
       "  </thead>\n",
       "  <tbody>\n",
       "    <tr>\n",
       "      <th>-0.596691</th>\n",
       "      <td>-0.005639</td>\n",
       "      <td>0.020102</td>\n",
       "      <td>0.018548</td>\n",
       "      <td>0.012853</td>\n",
       "      <td>-0.122300</td>\n",
       "      <td>0.078108</td>\n",
       "      <td>-0.008004</td>\n",
       "    </tr>\n",
       "    <tr>\n",
       "      <th>0.403309</th>\n",
       "      <td>0.003811</td>\n",
       "      <td>-0.013587</td>\n",
       "      <td>-0.012537</td>\n",
       "      <td>-0.008688</td>\n",
       "      <td>0.082664</td>\n",
       "      <td>-0.052794</td>\n",
       "      <td>0.005410</td>\n",
       "    </tr>\n",
       "  </tbody>\n",
       "</table>\n",
       "</div>"
      ],
      "text/plain": [
       "                     customer_rating  cost_of_the_product  \\\n",
       "reached_on_time_y.n                                         \n",
       "-0.596691                  -0.005639             0.020102   \n",
       " 0.403309                   0.003811            -0.013587   \n",
       "\n",
       "                     customer_care_calls  prior_purchases  discount_offered  \\\n",
       "reached_on_time_y.n                                                           \n",
       "-0.596691                       0.018548         0.012853         -0.122300   \n",
       " 0.403309                      -0.012537        -0.008688          0.082664   \n",
       "\n",
       "                     weight_in_gms  product_importance_r  \n",
       "reached_on_time_y.n                                       \n",
       "-0.596691                 0.078108             -0.008004  \n",
       " 0.403309                -0.052794              0.005410  "
      ]
     },
     "execution_count": 249,
     "metadata": {},
     "output_type": "execute_result"
    }
   ],
   "source": [
    "# Groupby reach on time with the mean of the columns\n",
    "data_groupby_time = dfx.groupby(by=['reached_on_time_y.n']).agg({'customer_rating': 'mean', \n",
    "     'cost_of_the_product': 'mean',\n",
    "     'customer_care_calls' : 'mean' ,\n",
    "     'prior_purchases' : 'mean',\n",
    "     'discount_offered': 'mean',\n",
    "     'weight_in_gms': 'mean',\n",
    "     'product_importance_r': 'mean'\n",
    "    })\n",
    "data_groupby_time.head()"
   ]
  },
  {
   "cell_type": "code",
   "execution_count": 250,
   "id": "ced399cf",
   "metadata": {},
   "outputs": [
    {
     "data": {
      "image/png": "[encoded data removed]",
      "text/plain": [
       "<Figure size 1300x400 with 1 Axes>"
      ]
     },
     "metadata": {},
     "output_type": "display_data"
    }
   ],
   "source": [
    "# Ploting of data by on time delivery column and by mean values\n",
    "sns.set(rc = {'figure.figsize' : (13, 4), \n",
    "               'axes.labelsize' : 10 })\n",
    "sns.set(style=\"darkgrid\")\n",
    "sns.boxenplot(data=data_groupby_time, linewidth=0.5).set_title('Groupby on time delivery')\n",
    "plt.savefig('Groupby on time delivery', facecolor='w', dpi=300)\n",
    "plt.show()\n",
    "\n",
    "# Findings\n",
    "# The higher the weight in grams shows the higher impact on the on time delivery"
   ]
  },
  {
   "cell_type": "code",
   "execution_count": null,
   "id": "6decf7f7",
   "metadata": {},
   "outputs": [],
   "source": []
  }
 ],
 "metadata": {
  "kernelspec": {
   "display_name": "Python 3 (ipykernel)",
   "language": "python",
   "name": "python3"
  },
  "language_info": {
   "codemirror_mode": {
    "name": "ipython",
    "version": 3
   },
   "file_extension": ".py",
   "mimetype": "text/x-python",
   "name": "python",
   "nbconvert_exporter": "python",
   "pygments_lexer": "ipython3",
   "version": "3.9.15"
  }
 },
 "nbformat": 4,
 "nbformat_minor": 5
}
